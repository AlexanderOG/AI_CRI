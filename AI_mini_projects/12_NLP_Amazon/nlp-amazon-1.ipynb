{
 "cells": [
  {
   "cell_type": "code",
   "execution_count": null,
   "id": "b643df80",
   "metadata": {
    "executionInfo": {
     "elapsed": 30,
     "status": "aborted",
     "timestamp": 1638444389545,
     "user": {
      "displayName": "alexander obeid",
      "photoUrl": "https://lh3.googleusercontent.com/a-/AOh14GiiSzZWCEnKkAtNxr4HfzfPgd4wUUILcLmj-HjF=s64",
      "userId": "08627660129346130290"
     },
     "user_tz": -60
    },
    "id": "b643df80"
   },
   "outputs": [],
   "source": []
  },
  {
   "cell_type": "code",
   "execution_count": 1,
   "id": "508243b1",
   "metadata": {
    "colab": {
     "base_uri": "https://localhost:8080/",
     "height": 235
    },
    "executionInfo": {
     "elapsed": 2280,
     "status": "error",
     "timestamp": 1638444390177,
     "user": {
      "displayName": "alexander obeid",
      "photoUrl": "https://lh3.googleusercontent.com/a-/AOh14GiiSzZWCEnKkAtNxr4HfzfPgd4wUUILcLmj-HjF=s64",
      "userId": "08627660129346130290"
     },
     "user_tz": -60
    },
    "id": "508243b1",
    "outputId": "b5524be5-300d-421d-c465-6aedc5c7ee9f"
   },
   "outputs": [
    {
     "name": "stdout",
     "output_type": "stream",
     "text": [
      "['test.ft.txt.bz2', 'train.ft.txt.bz2']\n"
     ]
    }
   ],
   "source": [
    "import numpy as np \n",
    "import pandas as pd \n",
    "import bz2\n",
    "import gc\n",
    "import re\n",
    "import os\n",
    "import matplotlib.pyplot as plt\n",
    "import seaborn as sns\n",
    "import random\n",
    "import numpy as np # linear algebra\n",
    "import pandas as pd # data processing, CSV file I/O (e.g. pd.read_csv)\n",
    "import bz2 # To open zipped files\n",
    "import re # regular expressions\n",
    "import os\n",
    "import gc\n",
    "\n",
    "import matplotlib.pyplot as plt\n",
    "import seaborn as sns\n",
    "\n",
    "from nltk.corpus import stopwords\n",
    "from nltk.classify import SklearnClassifier\n",
    "\n",
    "print(os.listdir(\"data\"))\n",
    "\n",
    "# https://www.kaggle.com/bittlingmayer/amazonreviews"
   ]
  },
  {
   "cell_type": "code",
   "execution_count": 2,
   "id": "4b29f0ac",
   "metadata": {
    "executionInfo": {
     "elapsed": 31,
     "status": "aborted",
     "timestamp": 1638444389547,
     "user": {
      "displayName": "alexander obeid",
      "photoUrl": "https://lh3.googleusercontent.com/a-/AOh14GiiSzZWCEnKkAtNxr4HfzfPgd4wUUILcLmj-HjF=s64",
      "userId": "08627660129346130290"
     },
     "user_tz": -60
    },
    "id": "4b29f0ac"
   },
   "outputs": [],
   "source": [
    "train_file = bz2.BZ2File('data/train.ft.txt.bz2')\n",
    "test_file = bz2.BZ2File('data/test.ft.txt.bz2')"
   ]
  },
  {
   "cell_type": "code",
   "execution_count": 3,
   "id": "ddf8cd08",
   "metadata": {
    "executionInfo": {
     "elapsed": 31,
     "status": "aborted",
     "timestamp": 1638444389547,
     "user": {
      "displayName": "alexander obeid",
      "photoUrl": "https://lh3.googleusercontent.com/a-/AOh14GiiSzZWCEnKkAtNxr4HfzfPgd4wUUILcLmj-HjF=s64",
      "userId": "08627660129346130290"
     },
     "user_tz": -60
    },
    "id": "ddf8cd08"
   },
   "outputs": [
    {
     "data": {
      "text/plain": [
       "42"
      ]
     },
     "execution_count": 3,
     "metadata": {},
     "output_type": "execute_result"
    }
   ],
   "source": [
    "# Can take some time (20'' ... 2' depending on your hardware)\n",
    "train_file_lines = train_file.readlines()\n",
    "test_file_lines = test_file.readlines()\n",
    "# save memory\n",
    "del train_file, test_file\n",
    "gc.collect()"
   ]
  },
  {
   "cell_type": "code",
   "execution_count": 4,
   "id": "8f398146",
   "metadata": {
    "executionInfo": {
     "elapsed": 32,
     "status": "aborted",
     "timestamp": 1638444389548,
     "user": {
      "displayName": "alexander obeid",
      "photoUrl": "https://lh3.googleusercontent.com/a-/AOh14GiiSzZWCEnKkAtNxr4HfzfPgd4wUUILcLmj-HjF=s64",
      "userId": "08627660129346130290"
     },
     "user_tz": -60
    },
    "id": "8f398146"
   },
   "outputs": [
    {
     "data": {
      "text/plain": [
       "(3600000, 400000)"
      ]
     },
     "execution_count": 4,
     "metadata": {},
     "output_type": "execute_result"
    }
   ],
   "source": [
    "len(train_file_lines), len(test_file_lines)"
   ]
  },
  {
   "cell_type": "code",
   "execution_count": 5,
   "id": "82e8c957",
   "metadata": {
    "executionInfo": {
     "elapsed": 31,
     "status": "aborted",
     "timestamp": 1638444389549,
     "user": {
      "displayName": "alexander obeid",
      "photoUrl": "https://lh3.googleusercontent.com/a-/AOh14GiiSzZWCEnKkAtNxr4HfzfPgd4wUUILcLmj-HjF=s64",
      "userId": "08627660129346130290"
     },
     "user_tz": -60
    },
    "id": "82e8c957"
   },
   "outputs": [],
   "source": [
    "train_file_lines = random.sample(train_file_lines, int(0.1*len(train_file_lines))) # ONLY 10% DATA"
   ]
  },
  {
   "cell_type": "code",
   "execution_count": 6,
   "id": "1c43d1d5",
   "metadata": {
    "executionInfo": {
     "elapsed": 30,
     "status": "aborted",
     "timestamp": 1638444389549,
     "user": {
      "displayName": "alexander obeid",
      "photoUrl": "https://lh3.googleusercontent.com/a-/AOh14GiiSzZWCEnKkAtNxr4HfzfPgd4wUUILcLmj-HjF=s64",
      "userId": "08627660129346130290"
     },
     "user_tz": -60
    },
    "id": "1c43d1d5"
   },
   "outputs": [],
   "source": [
    "test_file_lines = random.sample(test_file_lines, int(0.1*len(test_file_lines))) # ONLY 10% DATA"
   ]
  },
  {
   "cell_type": "code",
   "execution_count": 7,
   "id": "46a19928",
   "metadata": {
    "executionInfo": {
     "elapsed": 32,
     "status": "aborted",
     "timestamp": 1638444389551,
     "user": {
      "displayName": "alexander obeid",
      "photoUrl": "https://lh3.googleusercontent.com/a-/AOh14GiiSzZWCEnKkAtNxr4HfzfPgd4wUUILcLmj-HjF=s64",
      "userId": "08627660129346130290"
     },
     "user_tz": -60
    },
    "id": "46a19928"
   },
   "outputs": [
    {
     "data": {
      "text/plain": [
       "(360000, 40000)"
      ]
     },
     "execution_count": 7,
     "metadata": {},
     "output_type": "execute_result"
    }
   ],
   "source": [
    "len(train_file_lines), len(test_file_lines)"
   ]
  },
  {
   "cell_type": "code",
   "execution_count": 8,
   "id": "0863fc15",
   "metadata": {
    "executionInfo": {
     "elapsed": 32,
     "status": "aborted",
     "timestamp": 1638444389552,
     "user": {
      "displayName": "alexander obeid",
      "photoUrl": "https://lh3.googleusercontent.com/a-/AOh14GiiSzZWCEnKkAtNxr4HfzfPgd4wUUILcLmj-HjF=s64",
      "userId": "08627660129346130290"
     },
     "user_tz": -60
    },
    "id": "0863fc15"
   },
   "outputs": [],
   "source": [
    "train_file_lines = [x.decode('utf-8') for x in train_file_lines]\n",
    "test_file_lines = [x.decode('utf-8') for x in test_file_lines]"
   ]
  },
  {
   "cell_type": "code",
   "execution_count": 9,
   "id": "2a95fc42",
   "metadata": {
    "executionInfo": {
     "elapsed": 34,
     "status": "aborted",
     "timestamp": 1638444389554,
     "user": {
      "displayName": "alexander obeid",
      "photoUrl": "https://lh3.googleusercontent.com/a-/AOh14GiiSzZWCEnKkAtNxr4HfzfPgd4wUUILcLmj-HjF=s64",
      "userId": "08627660129346130290"
     },
     "user_tz": -60
    },
    "id": "2a95fc42"
   },
   "outputs": [],
   "source": [
    "train_labels = np.array([0 if x.split(' ')[0] == '__label__1' else 1 for x in train_file_lines])\n",
    "train_sentences = [x.split(' ', 1)[1][:-1].lower() for x in train_file_lines]\n",
    "\n",
    "for i in range(len(train_sentences)):\n",
    "    train_sentences[i] = re.sub('\\d','0',train_sentences[i])\n",
    "    \n",
    "test_labels = np.array([0 if x.split(' ')[0] == '__label__1' else 1 for x in test_file_lines])\n",
    "test_sentences = [x.split(' ', 1)[1][:-1].lower() for x in test_file_lines]\n",
    "\n",
    "for i in range(len(test_sentences)):\n",
    "    test_sentences[i] = re.sub('\\d','0',test_sentences[i])\n",
    "                                                       \n",
    "for i in range(len(train_sentences)):\n",
    "    if 'www.' in train_sentences[i] or 'http:' in train_sentences[i] or 'https:' in train_sentences[i] or '.com' in train_sentences[i]:\n",
    "        train_sentences[i] = re.sub(r\"([^ ]+(?<=\\.[a-z]{3}))\", \"<url>\", train_sentences[i])\n",
    "        \n",
    "for i in range(len(test_sentences)):\n",
    "    if 'www.' in test_sentences[i] or 'http:' in test_sentences[i] or 'https:' in test_sentences[i] or '.com' in test_sentences[i]:\n",
    "        test_sentences[i] = re.sub(r\"([^ ]+(?<=\\.[a-z]{3}))\", \"<url>\", test_sentences[i])"
   ]
  },
  {
   "cell_type": "code",
   "execution_count": 10,
   "id": "c5af9c9c",
   "metadata": {
    "executionInfo": {
     "elapsed": 33,
     "status": "aborted",
     "timestamp": 1638444389554,
     "user": {
      "displayName": "alexander obeid",
      "photoUrl": "https://lh3.googleusercontent.com/a-/AOh14GiiSzZWCEnKkAtNxr4HfzfPgd4wUUILcLmj-HjF=s64",
      "userId": "08627660129346130290"
     },
     "user_tz": -60
    },
    "id": "c5af9c9c"
   },
   "outputs": [
    {
     "data": {
      "text/plain": [
       "('good but not as good as the others: i love this series. i found this book to not be as good as the previous but definitely worth a read if you like the outlander series. it sets the stage for what is coming more than has an interesting story line i believe.',\n",
       " 1)"
      ]
     },
     "execution_count": 10,
     "metadata": {},
     "output_type": "execute_result"
    }
   ],
   "source": [
    "train_sentences[10], train_labels[10]"
   ]
  },
  {
   "cell_type": "code",
   "execution_count": 11,
   "id": "3bbe5b5b",
   "metadata": {
    "executionInfo": {
     "elapsed": 34,
     "status": "aborted",
     "timestamp": 1638444389555,
     "user": {
      "displayName": "alexander obeid",
      "photoUrl": "https://lh3.googleusercontent.com/a-/AOh14GiiSzZWCEnKkAtNxr4HfzfPgd4wUUILcLmj-HjF=s64",
      "userId": "08627660129346130290"
     },
     "user_tz": -60
    },
    "id": "3bbe5b5b"
   },
   "outputs": [
    {
     "data": {
      "text/plain": [
       "(\"second pair of these sandals i've owned: i bought a pair originally while on vacation in oahu. the sandals i was wearing at the time were killing my feet, so i happened by a mall and tried these on. normally i don't pay anywhere near what i paid for these sandals, but after trying them out i decided to buy a pair. the original pair lasted almost 0 years while wearing them a few times a week. the second pair i got just in time for vacation to belize, and though i wished i hadn't got them wet and sandy, they protected my diabetic feet from harm with better than average padding.\",\n",
       " 1)"
      ]
     },
     "execution_count": 11,
     "metadata": {},
     "output_type": "execute_result"
    }
   ],
   "source": [
    "train_sentences[8], train_labels[8]"
   ]
  },
  {
   "cell_type": "code",
   "execution_count": 12,
   "id": "87892b75",
   "metadata": {
    "executionInfo": {
     "elapsed": 35,
     "status": "aborted",
     "timestamp": 1638444389556,
     "user": {
      "displayName": "alexander obeid",
      "photoUrl": "https://lh3.googleusercontent.com/a-/AOh14GiiSzZWCEnKkAtNxr4HfzfPgd4wUUILcLmj-HjF=s64",
      "userId": "08627660129346130290"
     },
     "user_tz": -60
    },
    "id": "87892b75"
   },
   "outputs": [
    {
     "name": "stdout",
     "output_type": "stream",
     "text": [
      "Training set\n",
      "180116 in class 0\n",
      "179884 in class 1\n"
     ]
    }
   ],
   "source": [
    "print('Training set')\n",
    "print(f'{np.count_nonzero( train_labels == 0 )} in class 0')\n",
    "print(f'{np.count_nonzero( train_labels == 1 )} in class 1')"
   ]
  },
  {
   "cell_type": "code",
   "execution_count": null,
   "id": "1cb50836",
   "metadata": {
    "executionInfo": {
     "elapsed": 36,
     "status": "aborted",
     "timestamp": 1638444389557,
     "user": {
      "displayName": "alexander obeid",
      "photoUrl": "https://lh3.googleusercontent.com/a-/AOh14GiiSzZWCEnKkAtNxr4HfzfPgd4wUUILcLmj-HjF=s64",
      "userId": "08627660129346130290"
     },
     "user_tz": -60
    },
    "id": "1cb50836"
   },
   "outputs": [],
   "source": []
  },
  {
   "cell_type": "code",
   "execution_count": 13,
   "id": "1cb4f1f2",
   "metadata": {
    "executionInfo": {
     "elapsed": 35,
     "status": "aborted",
     "timestamp": 1638444389557,
     "user": {
      "displayName": "alexander obeid",
      "photoUrl": "https://lh3.googleusercontent.com/a-/AOh14GiiSzZWCEnKkAtNxr4HfzfPgd4wUUILcLmj-HjF=s64",
      "userId": "08627660129346130290"
     },
     "user_tz": -60
    },
    "id": "1cb4f1f2"
   },
   "outputs": [
    {
     "name": "stderr",
     "output_type": "stream",
     "text": [
      "c:\\users\\alex\\appdata\\local\\programs\\python\\python37\\lib\\site-packages\\seaborn\\_decorators.py:43: FutureWarning: Pass the following variable as a keyword arg: x. From version 0.12, the only valid positional argument will be `data`, and passing other arguments without an explicit keyword will result in an error or misinterpretation.\n",
      "  FutureWarning\n"
     ]
    },
    {
     "data": {
      "text/plain": [
       "Text(0.5, 1.0, 'Train Labels distribution')"
      ]
     },
     "execution_count": 13,
     "metadata": {},
     "output_type": "execute_result"
    },
    {
     "data": {
      "image/png": "[encoded data removed]",
      "text/plain": [
       "<Figure size 432x288 with 1 Axes>"
      ]
     },
     "metadata": {
      "needs_background": "light"
     },
     "output_type": "display_data"
    }
   ],
   "source": [
    "sns.countplot(train_labels)\n",
    "plt.title('Train Labels distribution')"
   ]
  },
  {
   "cell_type": "code",
   "execution_count": 14,
   "id": "f83efcff",
   "metadata": {
    "executionInfo": {
     "elapsed": 36,
     "status": "aborted",
     "timestamp": 1638444389558,
     "user": {
      "displayName": "alexander obeid",
      "photoUrl": "https://lh3.googleusercontent.com/a-/AOh14GiiSzZWCEnKkAtNxr4HfzfPgd4wUUILcLmj-HjF=s64",
      "userId": "08627660129346130290"
     },
     "user_tz": -60
    },
    "id": "f83efcff"
   },
   "outputs": [
    {
     "name": "stderr",
     "output_type": "stream",
     "text": [
      "c:\\users\\alex\\appdata\\local\\programs\\python\\python37\\lib\\site-packages\\seaborn\\_decorators.py:43: FutureWarning: Pass the following variable as a keyword arg: x. From version 0.12, the only valid positional argument will be `data`, and passing other arguments without an explicit keyword will result in an error or misinterpretation.\n",
      "  FutureWarning\n"
     ]
    },
    {
     "data": {
      "text/plain": [
       "Text(0.5, 1.0, 'Test Labels distribution')"
      ]
     },
     "execution_count": 14,
     "metadata": {},
     "output_type": "execute_result"
    },
    {
     "data": {
      "image/png": "[encoded data removed]",
      "text/plain": [
       "<Figure size 432x288 with 1 Axes>"
      ]
     },
     "metadata": {
      "needs_background": "light"
     },
     "output_type": "display_data"
    }
   ],
   "source": [
    "sns.countplot(test_labels)\n",
    "plt.title('Test Labels distribution')"
   ]
  },
  {
   "cell_type": "code",
   "execution_count": 102,
   "id": "440e4894",
   "metadata": {
    "executionInfo": {
     "elapsed": 37,
     "status": "aborted",
     "timestamp": 1638444389559,
     "user": {
      "displayName": "alexander obeid",
      "photoUrl": "https://lh3.googleusercontent.com/a-/AOh14GiiSzZWCEnKkAtNxr4HfzfPgd4wUUILcLmj-HjF=s64",
      "userId": "08627660129346130290"
     },
     "user_tz": -60
    },
    "id": "440e4894"
   },
   "outputs": [
    {
     "name": "stderr",
     "output_type": "stream",
     "text": [
      "c:\\users\\alex\\appdata\\local\\programs\\python\\python37\\lib\\site-packages\\seaborn\\distributions.py:2619: FutureWarning: `distplot` is a deprecated function and will be removed in a future version. Please adapt your code to use either `displot` (a figure-level function with similar flexibility) or `histplot` (an axes-level function for histograms).\n",
      "  warnings.warn(msg, FutureWarning)\n"
     ]
    },
    {
     "data": {
      "text/plain": [
       "Text(0.5, 1.0, 'Word Frequency Distribution in Reviews')"
      ]
     },
     "execution_count": 102,
     "metadata": {},
     "output_type": "execute_result"
    },
    {
     "data": {
      "image/png": "[encoded data removed]",
      "text/plain": [
       "<Figure size 864x432 with 1 Axes>"
      ]
     },
     "metadata": {
      "needs_background": "light"
     },
     "output_type": "display_data"
    }
   ],
   "source": [
    "#Let’s count number of words in reviews and see it distribution\n",
    "train_sentences_size = list(map(lambda x: len(x.split()), train_sentences))\n",
    "\n",
    "sns.distplot(train_sentences_size, bins=20)\n",
    "plt.xlabel(\"#words in reviews\")\n",
    "plt.ylabel(\"Frequency\")\n",
    "plt.title(\"Word Frequency Distribution in Reviews\")"
   ]
  },
  {
   "cell_type": "code",
   "execution_count": 16,
   "id": "2d41c917",
   "metadata": {
    "executionInfo": {
     "elapsed": 37,
     "status": "aborted",
     "timestamp": 1638444389559,
     "user": {
      "displayName": "alexander obeid",
      "photoUrl": "https://lh3.googleusercontent.com/a-/AOh14GiiSzZWCEnKkAtNxr4HfzfPgd4wUUILcLmj-HjF=s64",
      "userId": "08627660129346130290"
     },
     "user_tz": -60
    },
    "id": "2d41c917"
   },
   "outputs": [
    {
     "data": {
      "text/html": [
       "<div>\n",
       "<style scoped>\n",
       "    .dataframe tbody tr th:only-of-type {\n",
       "        vertical-align: middle;\n",
       "    }\n",
       "\n",
       "    .dataframe tbody tr th {\n",
       "        vertical-align: top;\n",
       "    }\n",
       "\n",
       "    .dataframe thead th {\n",
       "        text-align: right;\n",
       "    }\n",
       "</style>\n",
       "<table border=\"1\" class=\"dataframe\">\n",
       "  <thead>\n",
       "    <tr style=\"text-align: right;\">\n",
       "      <th></th>\n",
       "      <th>labels</th>\n",
       "      <th>len</th>\n",
       "    </tr>\n",
       "  </thead>\n",
       "  <tbody>\n",
       "    <tr>\n",
       "      <th>0</th>\n",
       "      <td>1</td>\n",
       "      <td>140</td>\n",
       "    </tr>\n",
       "    <tr>\n",
       "      <th>1</th>\n",
       "      <td>0</td>\n",
       "      <td>91</td>\n",
       "    </tr>\n",
       "    <tr>\n",
       "      <th>2</th>\n",
       "      <td>0</td>\n",
       "      <td>104</td>\n",
       "    </tr>\n",
       "    <tr>\n",
       "      <th>3</th>\n",
       "      <td>1</td>\n",
       "      <td>23</td>\n",
       "    </tr>\n",
       "    <tr>\n",
       "      <th>4</th>\n",
       "      <td>1</td>\n",
       "      <td>25</td>\n",
       "    </tr>\n",
       "    <tr>\n",
       "      <th>...</th>\n",
       "      <td>...</td>\n",
       "      <td>...</td>\n",
       "    </tr>\n",
       "    <tr>\n",
       "      <th>359995</th>\n",
       "      <td>1</td>\n",
       "      <td>84</td>\n",
       "    </tr>\n",
       "    <tr>\n",
       "      <th>359996</th>\n",
       "      <td>1</td>\n",
       "      <td>95</td>\n",
       "    </tr>\n",
       "    <tr>\n",
       "      <th>359997</th>\n",
       "      <td>1</td>\n",
       "      <td>95</td>\n",
       "    </tr>\n",
       "    <tr>\n",
       "      <th>359998</th>\n",
       "      <td>1</td>\n",
       "      <td>16</td>\n",
       "    </tr>\n",
       "    <tr>\n",
       "      <th>359999</th>\n",
       "      <td>1</td>\n",
       "      <td>106</td>\n",
       "    </tr>\n",
       "  </tbody>\n",
       "</table>\n",
       "<p>360000 rows × 2 columns</p>\n",
       "</div>"
      ],
      "text/plain": [
       "        labels  len\n",
       "0            1  140\n",
       "1            0   91\n",
       "2            0  104\n",
       "3            1   23\n",
       "4            1   25\n",
       "...        ...  ...\n",
       "359995       1   84\n",
       "359996       1   95\n",
       "359997       1   95\n",
       "359998       1   16\n",
       "359999       1  106\n",
       "\n",
       "[360000 rows x 2 columns]"
      ]
     },
     "execution_count": 16,
     "metadata": {},
     "output_type": "execute_result"
    }
   ],
   "source": [
    "train_label_len = pd.DataFrame({\"labels\": train_labels, \"len\": train_sentences_size})\n",
    "train_label_len"
   ]
  },
  {
   "cell_type": "code",
   "execution_count": 17,
   "id": "34e34ba2",
   "metadata": {
    "executionInfo": {
     "elapsed": 38,
     "status": "aborted",
     "timestamp": 1638444389560,
     "user": {
      "displayName": "alexander obeid",
      "photoUrl": "https://lh3.googleusercontent.com/a-/AOh14GiiSzZWCEnKkAtNxr4HfzfPgd4wUUILcLmj-HjF=s64",
      "userId": "08627660129346130290"
     },
     "user_tz": -60
    },
    "id": "34e34ba2"
   },
   "outputs": [
    {
     "name": "stdout",
     "output_type": "stream",
     "text": [
      "Negative mean length: 81.53\n",
      "Positive mean length: 75.49\n",
      "Mean Difference: 6.04\n"
     ]
    },
    {
     "data": {
      "text/plain": [
       "Text(0.5, 1.0, 'Review Size Categorization')"
      ]
     },
     "execution_count": 17,
     "metadata": {},
     "output_type": "execute_result"
    },
    {
     "data": {
      "image/png": "[encoded data removed]",
      "text/plain": [
       "<Figure size 360x360 with 1 Axes>"
      ]
     },
     "metadata": {
      "needs_background": "light"
     },
     "output_type": "display_data"
    }
   ],
   "source": [
    "# Now we’ll divide it by sentiment and calculate average values\n",
    "\n",
    "neg_mean_len = train_label_len.groupby('labels')['len'].mean().values[0]\n",
    "pos_mean_len = train_label_len.groupby('labels')['len'].mean().values[1]\n",
    "\n",
    "print(f\"Negative mean length: {neg_mean_len:.2f}\")\n",
    "print(f\"Positive mean length: {pos_mean_len:.2f}\")\n",
    "print(f\"Mean Difference: {neg_mean_len-pos_mean_len:.2f}\")\n",
    "sns.catplot(x='labels', y='len', data=train_label_len, kind='box')\n",
    "plt.xlabel(\"labels (0->negative, 1->positive)\")\n",
    "plt.ylabel(\"#words in reviews\")\n",
    "plt.title(\"Review Size Categorization\")"
   ]
  },
  {
   "cell_type": "code",
   "execution_count": 18,
   "id": "39900036",
   "metadata": {
    "executionInfo": {
     "elapsed": 37,
     "status": "aborted",
     "timestamp": 1638444389560,
     "user": {
      "displayName": "alexander obeid",
      "photoUrl": "https://lh3.googleusercontent.com/a-/AOh14GiiSzZWCEnKkAtNxr4HfzfPgd4wUUILcLmj-HjF=s64",
      "userId": "08627660129346130290"
     },
     "user_tz": -60
    },
    "id": "39900036"
   },
   "outputs": [
    {
     "data": {
      "text/plain": [
       "121"
      ]
     },
     "execution_count": 18,
     "metadata": {},
     "output_type": "execute_result"
    }
   ],
   "source": [
    "del neg_mean_len,pos_mean_len\n",
    "gc.collect()"
   ]
  },
  {
   "cell_type": "code",
   "execution_count": 19,
   "id": "d7f786ff",
   "metadata": {
    "executionInfo": {
     "elapsed": 38,
     "status": "aborted",
     "timestamp": 1638444389561,
     "user": {
      "displayName": "alexander obeid",
      "photoUrl": "https://lh3.googleusercontent.com/a-/AOh14GiiSzZWCEnKkAtNxr4HfzfPgd4wUUILcLmj-HjF=s64",
      "userId": "08627660129346130290"
     },
     "user_tz": -60
    },
    "id": "d7f786ff"
   },
   "outputs": [],
   "source": [
    "# Clean URLs\n",
    "\n",
    "for i in range(len(train_sentences)):\n",
    "    if 'www.' in train_sentences[i] or 'http:' in train_sentences[i] or 'https:' in train_sentences[i] or '.com' in train_sentences[i]:\n",
    "        train_sentences[i] = re.sub(r\"([^ ]+(?<=\\.[a-z]{3}))\", \"<url>\", train_sentences[i])\n",
    "\n",
    "for i in range(len(test_sentences)):\n",
    "    if 'www.' in test_sentences[i] or 'http:' in test_sentences[i] or 'https:' in test_sentences[i] or '.com' in test_sentences[i]:\n",
    "        test_sentences[i] = re.sub(r\"([^ ]+(?<=\\.[a-z]{3}))\", \"<url>\", test_sentences[i])"
   ]
  },
  {
   "cell_type": "code",
   "execution_count": 20,
   "id": "95a930c2",
   "metadata": {
    "executionInfo": {
     "elapsed": 38,
     "status": "aborted",
     "timestamp": 1638444389562,
     "user": {
      "displayName": "alexander obeid",
      "photoUrl": "https://lh3.googleusercontent.com/a-/AOh14GiiSzZWCEnKkAtNxr4HfzfPgd4wUUILcLmj-HjF=s64",
      "userId": "08627660129346130290"
     },
     "user_tz": -60
    },
    "id": "95a930c2"
   },
   "outputs": [
    {
     "data": {
      "text/plain": [
       "\"destined to become a collector's item: this book contains the entire magickal curriculum of the hermetic order of the golden dawn as it exists today. its author david griffin, chief adept of hermetic order of the golden dawn, has been reported as saying that when this limited deluxe edition sells out soon, that there will be no further editions of this invaluable work. this means that the ritual magic manual by david griffin will soon become one of the most valuable and sought after collector's items in magickal history! the news on the street in the magickal community is that, once this limited edition sells out, its content will then become available exclusively on-line, and only to on-line members of the hermetic order of the golden dawn inside the cyber-temple at their <url> web site. i am glad that i already have my copy and would reccommend every serious student of ritual magick to get this book while they still can. this classic work is bound to become a collector's dream come true!\""
      ]
     },
     "execution_count": 20,
     "metadata": {},
     "output_type": "execute_result"
    }
   ],
   "source": [
    "list(filter(lambda x: '<url>' in x, train_sentences))[0]"
   ]
  },
  {
   "cell_type": "code",
   "execution_count": 21,
   "id": "27a5bedc",
   "metadata": {
    "executionInfo": {
     "elapsed": 38,
     "status": "aborted",
     "timestamp": 1638444389562,
     "user": {
      "displayName": "alexander obeid",
      "photoUrl": "https://lh3.googleusercontent.com/a-/AOh14GiiSzZWCEnKkAtNxr4HfzfPgd4wUUILcLmj-HjF=s64",
      "userId": "08627660129346130290"
     },
     "user_tz": -60
    },
    "id": "27a5bedc"
   },
   "outputs": [
    {
     "data": {
      "text/plain": [
       "63"
      ]
     },
     "execution_count": 21,
     "metadata": {},
     "output_type": "execute_result"
    }
   ],
   "source": [
    "del train_file_lines, test_file_lines\n",
    "gc.collect()"
   ]
  },
  {
   "cell_type": "code",
   "execution_count": 22,
   "id": "6b6d8df4",
   "metadata": {
    "executionInfo": {
     "elapsed": 38,
     "status": "aborted",
     "timestamp": 1638444389563,
     "user": {
      "displayName": "alexander obeid",
      "photoUrl": "https://lh3.googleusercontent.com/a-/AOh14GiiSzZWCEnKkAtNxr4HfzfPgd4wUUILcLmj-HjF=s64",
      "userId": "08627660129346130290"
     },
     "user_tz": -60
    },
    "id": "6b6d8df4"
   },
   "outputs": [
    {
     "name": "stderr",
     "output_type": "stream",
     "text": [
      "[nltk_data] Downloading package punkt to\n",
      "[nltk_data]     C:\\Users\\Alex\\AppData\\Roaming\\nltk_data...\n",
      "[nltk_data]   Unzipping tokenizers\\punkt.zip.\n",
      "[nltk_data] Downloading package averaged_perceptron_tagger to\n",
      "[nltk_data]     C:\\Users\\Alex\\AppData\\Roaming\\nltk_data...\n",
      "[nltk_data]   Unzipping taggers\\averaged_perceptron_tagger.zip.\n"
     ]
    },
    {
     "data": {
      "text/plain": [
       "['he', 'be', 'walking', 'walk', 'to', 'school']"
      ]
     },
     "execution_count": 22,
     "metadata": {},
     "output_type": "execute_result"
    }
   ],
   "source": [
    "import nltk\n",
    "from nltk import pos_tag\n",
    "from nltk import sent_tokenize, word_tokenize\n",
    "from nltk.stem import WordNetLemmatizer\n",
    "from string import punctuation\n",
    "\n",
    "nltk.download('punkt')\n",
    "nltk.download('averaged_perceptron_tagger')\n",
    "\n",
    "wnl = WordNetLemmatizer()\n",
    "\n",
    "def penn2morphy(penntag):\n",
    "    \"\"\" Converts Penn Treebank tags to WordNet. \"\"\"\n",
    "    morphy_tag = {'NN':'n', 'JJ':'a',\n",
    "                  'VB':'v', 'RB':'r'}\n",
    "    try:\n",
    "        return morphy_tag[penntag[:2]]\n",
    "    except:\n",
    "        return 'n' \n",
    "    \n",
    "def lemmatize_sent(text): \n",
    "    # Text input is string, returns lowercased strings.\n",
    "    return [wnl.lemmatize(word.lower(), pos=penn2morphy(tag)) \n",
    "            for word, tag in pos_tag(word_tokenize(text))]\n",
    "\n",
    "lemmatize_sent('He is WALKING walking to school')"
   ]
  },
  {
   "cell_type": "code",
   "execution_count": 23,
   "id": "e06b7573",
   "metadata": {
    "executionInfo": {
     "elapsed": 39,
     "status": "aborted",
     "timestamp": 1638444389564,
     "user": {
      "displayName": "alexander obeid",
      "photoUrl": "https://lh3.googleusercontent.com/a-/AOh14GiiSzZWCEnKkAtNxr4HfzfPgd4wUUILcLmj-HjF=s64",
      "userId": "08627660129346130290"
     },
     "user_tz": -60
    },
    "id": "e06b7573"
   },
   "outputs": [
    {
     "name": "stderr",
     "output_type": "stream",
     "text": [
      "[nltk_data] Downloading package stopwords to\n",
      "[nltk_data]     C:\\Users\\Alex\\AppData\\Roaming\\nltk_data...\n",
      "[nltk_data]   Unzipping corpora\\stopwords.zip.\n"
     ]
    }
   ],
   "source": [
    "nltk.download('stopwords')\n",
    "# Stopwords from stopwords-json\n",
    "stopwords_json = {\"en\":[\"a\",\"a's\",\"able\",\"about\",\"above\",\"according\",\"accordingly\",\"across\",\"actually\",\"after\",\"afterwards\",\"again\",\"against\",\"ain't\",\"all\",\"allow\",\"allows\",\"almost\",\"alone\",\"along\",\"already\",\"also\",\"although\",\"always\",\"am\",\"among\",\"amongst\",\"an\",\"and\",\"another\",\"any\",\"anybody\",\"anyhow\",\"anyone\",\"anything\",\"anyway\",\"anyways\",\"anywhere\",\"apart\",\"appear\",\"appreciate\",\"appropriate\",\"are\",\"aren't\",\"around\",\"as\",\"aside\",\"ask\",\"asking\",\"associated\",\"at\",\"available\",\"away\",\"awfully\",\"b\",\"be\",\"became\",\"because\",\"become\",\"becomes\",\"becoming\",\"been\",\"before\",\"beforehand\",\"behind\",\"being\",\"believe\",\"below\",\"beside\",\"besides\",\"best\",\"better\",\"between\",\"beyond\",\"both\",\"brief\",\"but\",\"by\",\"c\",\"c'mon\",\"c's\",\"came\",\"can\",\"can't\",\"cannot\",\"cant\",\"cause\",\"causes\",\"certain\",\"certainly\",\"changes\",\"clearly\",\"co\",\"com\",\"come\",\"comes\",\"concerning\",\"consequently\",\"consider\",\"considering\",\"contain\",\"containing\",\"contains\",\"corresponding\",\"could\",\"couldn't\",\"course\",\"currently\",\"d\",\"definitely\",\"described\",\"despite\",\"did\",\"didn't\",\"different\",\"do\",\"does\",\"doesn't\",\"doing\",\"don't\",\"done\",\"down\",\"downwards\",\"during\",\"e\",\"each\",\"edu\",\"eg\",\"eight\",\"either\",\"else\",\"elsewhere\",\"enough\",\"entirely\",\"especially\",\"et\",\"etc\",\"even\",\"ever\",\"every\",\"everybody\",\"everyone\",\"everything\",\"everywhere\",\"ex\",\"exactly\",\"example\",\"except\",\"f\",\"far\",\"few\",\"fifth\",\"first\",\"five\",\"followed\",\"following\",\"follows\",\"for\",\"former\",\"formerly\",\"forth\",\"four\",\"from\",\"further\",\"furthermore\",\"g\",\"get\",\"gets\",\"getting\",\"given\",\"gives\",\"go\",\"goes\",\"going\",\"gone\",\"got\",\"gotten\",\"greetings\",\"h\",\"had\",\"hadn't\",\"happens\",\"hardly\",\"has\",\"hasn't\",\"have\",\"haven't\",\"having\",\"he\",\"he's\",\"hello\",\"help\",\"hence\",\"her\",\"here\",\"here's\",\"hereafter\",\"hereby\",\"herein\",\"hereupon\",\"hers\",\"herself\",\"hi\",\"him\",\"himself\",\"his\",\"hither\",\"hopefully\",\"how\",\"howbeit\",\"however\",\"i\",\"i'd\",\"i'll\",\"i'm\",\"i've\",\"ie\",\"if\",\"ignored\",\"immediate\",\"in\",\"inasmuch\",\"inc\",\"indeed\",\"indicate\",\"indicated\",\"indicates\",\"inner\",\"insofar\",\"instead\",\"into\",\"inward\",\"is\",\"isn't\",\"it\",\"it'd\",\"it'll\",\"it's\",\"its\",\"itself\",\"j\",\"just\",\"k\",\"keep\",\"keeps\",\"kept\",\"know\",\"known\",\"knows\",\"l\",\"last\",\"lately\",\"later\",\"latter\",\"latterly\",\"least\",\"less\",\"lest\",\"let\",\"let's\",\"like\",\"liked\",\"likely\",\"little\",\"look\",\"looking\",\"looks\",\"ltd\",\"m\",\"mainly\",\"many\",\"may\",\"maybe\",\"me\",\"mean\",\"meanwhile\",\"merely\",\"might\",\"more\",\"moreover\",\"most\",\"mostly\",\"much\",\"must\",\"my\",\"myself\",\"n\",\"name\",\"namely\",\"nd\",\"near\",\"nearly\",\"necessary\",\"need\",\"needs\",\"neither\",\"never\",\"nevertheless\",\"new\",\"next\",\"nine\",\"no\",\"nobody\",\"non\",\"none\",\"noone\",\"nor\",\"normally\",\"not\",\"nothing\",\"novel\",\"now\",\"nowhere\",\"o\",\"obviously\",\"of\",\"off\",\"often\",\"oh\",\"ok\",\"okay\",\"old\",\"on\",\"once\",\"one\",\"ones\",\"only\",\"onto\",\"or\",\"other\",\"others\",\"otherwise\",\"ought\",\"our\",\"ours\",\"ourselves\",\"out\",\"outside\",\"over\",\"overall\",\"own\",\"p\",\"particular\",\"particularly\",\"per\",\"perhaps\",\"placed\",\"please\",\"plus\",\"possible\",\"presumably\",\"probably\",\"provides\",\"q\",\"que\",\"quite\",\"qv\",\"r\",\"rather\",\"rd\",\"re\",\"really\",\"reasonably\",\"regarding\",\"regardless\",\"regards\",\"relatively\",\"respectively\",\"right\",\"s\",\"said\",\"same\",\"saw\",\"say\",\"saying\",\"says\",\"second\",\"secondly\",\"see\",\"seeing\",\"seem\",\"seemed\",\"seeming\",\"seems\",\"seen\",\"self\",\"selves\",\"sensible\",\"sent\",\"serious\",\"seriously\",\"seven\",\"several\",\"shall\",\"she\",\"should\",\"shouldn't\",\"since\",\"six\",\"so\",\"some\",\"somebody\",\"somehow\",\"someone\",\"something\",\"sometime\",\"sometimes\",\"somewhat\",\"somewhere\",\"soon\",\"sorry\",\"specified\",\"specify\",\"specifying\",\"still\",\"sub\",\"such\",\"sup\",\"sure\",\"t\",\"t's\",\"take\",\"taken\",\"tell\",\"tends\",\"th\",\"than\",\"thank\",\"thanks\",\"thanx\",\"that\",\"that's\",\"thats\",\"the\",\"their\",\"theirs\",\"them\",\"themselves\",\"then\",\"thence\",\"there\",\"there's\",\"thereafter\",\"thereby\",\"therefore\",\"therein\",\"theres\",\"thereupon\",\"these\",\"they\",\"they'd\",\"they'll\",\"they're\",\"they've\",\"think\",\"third\",\"this\",\"thorough\",\"thoroughly\",\"those\",\"though\",\"three\",\"through\",\"throughout\",\"thru\",\"thus\",\"to\",\"together\",\"too\",\"took\",\"toward\",\"towards\",\"tried\",\"tries\",\"truly\",\"try\",\"trying\",\"twice\",\"two\",\"u\",\"un\",\"under\",\"unfortunately\",\"unless\",\"unlikely\",\"until\",\"unto\",\"up\",\"upon\",\"us\",\"use\",\"used\",\"useful\",\"uses\",\"using\",\"usually\",\"uucp\",\"v\",\"value\",\"various\",\"very\",\"via\",\"viz\",\"vs\",\"w\",\"want\",\"wants\",\"was\",\"wasn't\",\"way\",\"we\",\"we'd\",\"we'll\",\"we're\",\"we've\",\"welcome\",\"well\",\"went\",\"were\",\"weren't\",\"what\",\"what's\",\"whatever\",\"when\",\"whence\",\"whenever\",\"where\",\"where's\",\"whereafter\",\"whereas\",\"whereby\",\"wherein\",\"whereupon\",\"wherever\",\"whether\",\"which\",\"while\",\"whither\",\"who\",\"who's\",\"whoever\",\"whole\",\"whom\",\"whose\",\"why\",\"will\",\"willing\",\"wish\",\"with\",\"within\",\"without\",\"won't\",\"wonder\",\"would\",\"wouldn't\",\"x\",\"y\",\"yes\",\"yet\",\"you\",\"you'd\",\"you'll\",\"you're\",\"you've\",\"your\",\"yours\",\"yourself\",\"yourselves\",\"z\",\"zero\"]}\n",
    "stopwords_json_en = set(stopwords_json['en'])\n",
    "stopwords_nltk_en = set(stopwords.words('english'))\n",
    "stopwords_punct = set(punctuation)\n",
    "# Combine the stopwords. Its a lot longer so I'm not printing it out...\n",
    "stoplist_combined = set.union(stopwords_json_en, stopwords_nltk_en, stopwords_punct)"
   ]
  },
  {
   "cell_type": "code",
   "execution_count": 24,
   "id": "604f7e81",
   "metadata": {
    "executionInfo": {
     "elapsed": 38,
     "status": "aborted",
     "timestamp": 1638444389564,
     "user": {
      "displayName": "alexander obeid",
      "photoUrl": "https://lh3.googleusercontent.com/a-/AOh14GiiSzZWCEnKkAtNxr4HfzfPgd4wUUILcLmj-HjF=s64",
      "userId": "08627660129346130290"
     },
     "user_tz": -60
    },
    "id": "604f7e81"
   },
   "outputs": [],
   "source": [
    "# Clean Digits\n",
    "\n",
    "def preprocess_text(text):\n",
    "    # Input: str, i.e. document/sentence\n",
    "    # Output: list(str) , i.e. list of lemmas\n",
    "    return [word for word in lemmatize_sent(text) \n",
    "            if word not in stoplist_combined\n",
    "            and not word.isdigit()]"
   ]
  },
  {
   "cell_type": "code",
   "execution_count": 25,
   "id": "878305d1",
   "metadata": {
    "executionInfo": {
     "elapsed": 39,
     "status": "aborted",
     "timestamp": 1638444389565,
     "user": {
      "displayName": "alexander obeid",
      "photoUrl": "https://lh3.googleusercontent.com/a-/AOh14GiiSzZWCEnKkAtNxr4HfzfPgd4wUUILcLmj-HjF=s64",
      "userId": "08627660129346130290"
     },
     "user_tz": -60
    },
    "id": "878305d1"
   },
   "outputs": [
    {
     "data": {
      "text/plain": [
       "'good but not as good as the others: i love this series. i found this book to not be as good as the previous but definitely worth a read if you like the outlander series. it sets the stage for what is coming more than has an interesting story line i believe.'"
      ]
     },
     "execution_count": 25,
     "metadata": {},
     "output_type": "execute_result"
    }
   ],
   "source": [
    "train_sentences[10]"
   ]
  },
  {
   "cell_type": "code",
   "execution_count": 26,
   "id": "748710d3",
   "metadata": {
    "executionInfo": {
     "elapsed": 40,
     "status": "aborted",
     "timestamp": 1638444389566,
     "user": {
      "displayName": "alexander obeid",
      "photoUrl": "https://lh3.googleusercontent.com/a-/AOh14GiiSzZWCEnKkAtNxr4HfzfPgd4wUUILcLmj-HjF=s64",
      "userId": "08627660129346130290"
     },
     "user_tz": -60
    },
    "id": "748710d3"
   },
   "outputs": [
    {
     "data": {
      "text/plain": [
       "['good',\n",
       " 'good',\n",
       " 'love',\n",
       " 'series',\n",
       " 'find',\n",
       " 'book',\n",
       " 'good',\n",
       " 'previous',\n",
       " 'worth',\n",
       " 'read',\n",
       " 'outlander',\n",
       " 'series',\n",
       " 'set',\n",
       " 'stage',\n",
       " 'interesting',\n",
       " 'story',\n",
       " 'line']"
      ]
     },
     "execution_count": 26,
     "metadata": {},
     "output_type": "execute_result"
    }
   ],
   "source": [
    "preprocess_text(train_sentences[10])"
   ]
  },
  {
   "cell_type": "code",
   "execution_count": null,
   "id": "2ea4e4b7",
   "metadata": {
    "executionInfo": {
     "elapsed": 40,
     "status": "aborted",
     "timestamp": 1638444389567,
     "user": {
      "displayName": "alexander obeid",
      "photoUrl": "https://lh3.googleusercontent.com/a-/AOh14GiiSzZWCEnKkAtNxr4HfzfPgd4wUUILcLmj-HjF=s64",
      "userId": "08627660129346130290"
     },
     "user_tz": -60
    },
    "id": "2ea4e4b7"
   },
   "outputs": [],
   "source": []
  },
  {
   "cell_type": "code",
   "execution_count": null,
   "id": "07b5f4eb",
   "metadata": {
    "executionInfo": {
     "elapsed": 43,
     "status": "aborted",
     "timestamp": 1638444389570,
     "user": {
      "displayName": "alexander obeid",
      "photoUrl": "https://lh3.googleusercontent.com/a-/AOh14GiiSzZWCEnKkAtNxr4HfzfPgd4wUUILcLmj-HjF=s64",
      "userId": "08627660129346130290"
     },
     "user_tz": -60
    },
    "id": "07b5f4eb"
   },
   "outputs": [],
   "source": []
  },
  {
   "cell_type": "code",
   "execution_count": 27,
   "id": "adbfebdf",
   "metadata": {
    "executionInfo": {
     "elapsed": 43,
     "status": "aborted",
     "timestamp": 1638444389570,
     "user": {
      "displayName": "alexander obeid",
      "photoUrl": "https://lh3.googleusercontent.com/a-/AOh14GiiSzZWCEnKkAtNxr4HfzfPgd4wUUILcLmj-HjF=s64",
      "userId": "08627660129346130290"
     },
     "user_tz": -60
    },
    "id": "adbfebdf"
   },
   "outputs": [],
   "source": [
    "from sklearn.feature_extraction.text import CountVectorizer\n",
    "\n",
    "count_vect = CountVectorizer(analyzer=preprocess_text)"
   ]
  },
  {
   "cell_type": "code",
   "execution_count": 47,
   "id": "a7f022cd",
   "metadata": {
    "executionInfo": {
     "elapsed": 43,
     "status": "aborted",
     "timestamp": 1638444389571,
     "user": {
      "displayName": "alexander obeid",
      "photoUrl": "https://lh3.googleusercontent.com/a-/AOh14GiiSzZWCEnKkAtNxr4HfzfPgd4wUUILcLmj-HjF=s64",
      "userId": "08627660129346130290"
     },
     "user_tz": -60
    },
    "id": "a7f022cd"
   },
   "outputs": [],
   "source": [
    "train_set = count_vect.fit_transform(train_sentences[:20000])"
   ]
  },
  {
   "cell_type": "code",
   "execution_count": 48,
   "id": "20fce60b",
   "metadata": {
    "executionInfo": {
     "elapsed": 44,
     "status": "aborted",
     "timestamp": 1638444389572,
     "user": {
      "displayName": "alexander obeid",
      "photoUrl": "https://lh3.googleusercontent.com/a-/AOh14GiiSzZWCEnKkAtNxr4HfzfPgd4wUUILcLmj-HjF=s64",
      "userId": "08627660129346130290"
     },
     "user_tz": -60
    },
    "id": "20fce60b"
   },
   "outputs": [
    {
     "data": {
      "text/plain": [
       "(20000, 54250)"
      ]
     },
     "execution_count": 48,
     "metadata": {},
     "output_type": "execute_result"
    }
   ],
   "source": [
    "train_set.toarray().shape"
   ]
  },
  {
   "cell_type": "code",
   "execution_count": 56,
   "id": "f67b959d",
   "metadata": {
    "executionInfo": {
     "elapsed": 640,
     "status": "aborted",
     "timestamp": 1638444390168,
     "user": {
      "displayName": "alexander obeid",
      "photoUrl": "https://lh3.googleusercontent.com/a-/AOh14GiiSzZWCEnKkAtNxr4HfzfPgd4wUUILcLmj-HjF=s64",
      "userId": "08627660129346130290"
     },
     "user_tz": -60
    },
    "id": "f67b959d"
   },
   "outputs": [],
   "source": [
    "test_set = count_vect.transform(test_sentences[:2000])"
   ]
  },
  {
   "cell_type": "code",
   "execution_count": 57,
   "id": "179f81d1",
   "metadata": {
    "executionInfo": {
     "elapsed": 640,
     "status": "aborted",
     "timestamp": 1638444390169,
     "user": {
      "displayName": "alexander obeid",
      "photoUrl": "https://lh3.googleusercontent.com/a-/AOh14GiiSzZWCEnKkAtNxr4HfzfPgd4wUUILcLmj-HjF=s64",
      "userId": "08627660129346130290"
     },
     "user_tz": -60
    },
    "id": "179f81d1"
   },
   "outputs": [
    {
     "data": {
      "text/plain": [
       "<AxesSubplot:title={'center':'Most Frequent Words'}, xlabel='word'>"
      ]
     },
     "execution_count": 57,
     "metadata": {},
     "output_type": "execute_result"
    },
    {
     "data": {
      "image/png": "[encoded data removed]",
      "text/plain": [
       "<Figure size 432x288 with 1 Axes>"
      ]
     },
     "metadata": {
      "needs_background": "light"
     },
     "output_type": "display_data"
    }
   ],
   "source": [
    "most_freq_words = pd.DataFrame(count_vect.vocabulary_.items(), columns=['word', 'frequency']).sort_values(ascending=False, by = \"frequency\")[:20]\n",
    "most_freq_words.plot.bar(x=\"word\", y=\"frequency\", rot=70, title=\"Most Frequent Words\")"
   ]
  },
  {
   "cell_type": "code",
   "execution_count": null,
   "id": "64767c34",
   "metadata": {
    "executionInfo": {
     "elapsed": 641,
     "status": "aborted",
     "timestamp": 1638444390170,
     "user": {
      "displayName": "alexander obeid",
      "photoUrl": "https://lh3.googleusercontent.com/a-/AOh14GiiSzZWCEnKkAtNxr4HfzfPgd4wUUILcLmj-HjF=s64",
      "userId": "08627660129346130290"
     },
     "user_tz": -60
    },
    "id": "64767c34"
   },
   "outputs": [],
   "source": []
  },
  {
   "cell_type": "code",
   "execution_count": null,
   "id": "6e5348a3",
   "metadata": {
    "executionInfo": {
     "elapsed": 642,
     "status": "aborted",
     "timestamp": 1638444390171,
     "user": {
      "displayName": "alexander obeid",
      "photoUrl": "https://lh3.googleusercontent.com/a-/AOh14GiiSzZWCEnKkAtNxr4HfzfPgd4wUUILcLmj-HjF=s64",
      "userId": "08627660129346130290"
     },
     "user_tz": -60
    },
    "id": "6e5348a3"
   },
   "outputs": [],
   "source": []
  },
  {
   "cell_type": "code",
   "execution_count": 58,
   "id": "390415ce",
   "metadata": {
    "executionInfo": {
     "elapsed": 16,
     "status": "aborted",
     "timestamp": 1638444390172,
     "user": {
      "displayName": "alexander obeid",
      "photoUrl": "https://lh3.googleusercontent.com/a-/AOh14GiiSzZWCEnKkAtNxr4HfzfPgd4wUUILcLmj-HjF=s64",
      "userId": "08627660129346130290"
     },
     "user_tz": -60
    },
    "id": "390415ce"
   },
   "outputs": [],
   "source": [
    "from sklearn.naive_bayes import MultinomialNB\n",
    "clf = MultinomialNB()"
   ]
  },
  {
   "cell_type": "code",
   "execution_count": 59,
   "id": "0c93cecf",
   "metadata": {
    "executionInfo": {
     "elapsed": 16,
     "status": "aborted",
     "timestamp": 1638444390173,
     "user": {
      "displayName": "alexander obeid",
      "photoUrl": "https://lh3.googleusercontent.com/a-/AOh14GiiSzZWCEnKkAtNxr4HfzfPgd4wUUILcLmj-HjF=s64",
      "userId": "08627660129346130290"
     },
     "user_tz": -60
    },
    "id": "0c93cecf"
   },
   "outputs": [
    {
     "data": {
      "text/plain": [
       "MultinomialNB()"
      ]
     },
     "execution_count": 59,
     "metadata": {},
     "output_type": "execute_result"
    }
   ],
   "source": [
    "clf.fit(train_set, train_labels[:20000])"
   ]
  },
  {
   "cell_type": "code",
   "execution_count": 109,
   "id": "f530c0ab",
   "metadata": {
    "executionInfo": {
     "elapsed": 16,
     "status": "aborted",
     "timestamp": 1638444390173,
     "user": {
      "displayName": "alexander obeid",
      "photoUrl": "https://lh3.googleusercontent.com/a-/AOh14GiiSzZWCEnKkAtNxr4HfzfPgd4wUUILcLmj-HjF=s64",
      "userId": "08627660129346130290"
     },
     "user_tz": -60
    },
    "id": "f530c0ab"
   },
   "outputs": [
    {
     "name": "stdout",
     "output_type": "stream",
     "text": [
      "Amazon Sentiment Analysis Accuracy = 80.55\n",
      "Amazon Sentiment Analysis Accuracy = 81.6\n",
      "Amazon Sentiment Analysis Accuracy = 80.45\n",
      "Amazon Sentiment Analysis Accuracy = 80.95\n",
      "Amazon Sentiment Analysis Accuracy = 81.5\n",
      "Amazon Sentiment Analysis Accuracy = 80.7\n",
      "Amazon Sentiment Analysis Accuracy = 80.25\n",
      "Amazon Sentiment Analysis Accuracy = 80.10000000000001\n",
      "Amazon Sentiment Analysis Accuracy = 80.65\n",
      "Amazon Sentiment Analysis Accuracy = 82.5\n"
     ]
    }
   ],
   "source": [
    "from sklearn.metrics import accuracy_score\n",
    "\n",
    "# To predict our tags (i.e. whether requesters get their pizza), \n",
    "# we feed the vectorized `test_set` to .predict()\n",
    "accs = []\n",
    "for i in range(0,10):\n",
    "    \n",
    "    test_set = count_vect.transform(test_sentences[i*2000:(i+1)*2000])\n",
    "    predictions_valid = clf.predict(test_set)\n",
    "    accs.append(accuracy_score(predictions_valid, test_labels[i*2000:(i+1)*2000]) * 100)\n",
    "    print('Amazon Sentiment Analysis Accuracy = {}'.format(\n",
    "            accuracy_score(predictions_valid, test_labels[i*2000:(i+1)*2000]) * 100)\n",
    "         )"
   ]
  },
  {
   "cell_type": "code",
   "execution_count": 61,
   "id": "0f317419",
   "metadata": {
    "executionInfo": {
     "elapsed": 16,
     "status": "aborted",
     "timestamp": 1638444390174,
     "user": {
      "displayName": "alexander obeid",
      "photoUrl": "https://lh3.googleusercontent.com/a-/AOh14GiiSzZWCEnKkAtNxr4HfzfPgd4wUUILcLmj-HjF=s64",
      "userId": "08627660129346130290"
     },
     "user_tz": -60
    },
    "id": "0f317419"
   },
   "outputs": [
    {
     "name": "stderr",
     "output_type": "stream",
     "text": [
      "c:\\users\\alex\\appdata\\local\\programs\\python\\python37\\lib\\site-packages\\sklearn\\utils\\deprecation.py:87: FutureWarning: Function plot_confusion_matrix is deprecated; Function `plot_confusion_matrix` is deprecated in 1.0 and will be removed in 1.2. Use one of the class methods: ConfusionMatrixDisplay.from_predictions or ConfusionMatrixDisplay.from_estimator.\n",
      "  warnings.warn(msg, category=FutureWarning)\n"
     ]
    },
    {
     "data": {
      "text/plain": [
       "<sklearn.metrics._plot.confusion_matrix.ConfusionMatrixDisplay at 0x29fe9c3ef08>"
      ]
     },
     "execution_count": 61,
     "metadata": {},
     "output_type": "execute_result"
    },
    {
     "data": {
      "image/png": "[encoded data removed]",
      "text/plain": [
       "<Figure size 432x288 with 2 Axes>"
      ]
     },
     "metadata": {
      "needs_background": "light"
     },
     "output_type": "display_data"
    }
   ],
   "source": [
    "from sklearn.metrics import plot_confusion_matrix\n",
    "plot_confusion_matrix(clf, test_set, test_labels[:2000])"
   ]
  },
  {
   "cell_type": "code",
   "execution_count": 63,
   "id": "25804192",
   "metadata": {
    "executionInfo": {
     "elapsed": 16,
     "status": "aborted",
     "timestamp": 1638444390175,
     "user": {
      "displayName": "alexander obeid",
      "photoUrl": "https://lh3.googleusercontent.com/a-/AOh14GiiSzZWCEnKkAtNxr4HfzfPgd4wUUILcLmj-HjF=s64",
      "userId": "08627660129346130290"
     },
     "user_tz": -60
    },
    "id": "25804192"
   },
   "outputs": [],
   "source": [
    "missclassified = predictions_valid != test_labels[:2000]"
   ]
  },
  {
   "cell_type": "code",
   "execution_count": 78,
   "id": "69b873b8",
   "metadata": {
    "executionInfo": {
     "elapsed": 17,
     "status": "aborted",
     "timestamp": 1638444390176,
     "user": {
      "displayName": "alexander obeid",
      "photoUrl": "https://lh3.googleusercontent.com/a-/AOh14GiiSzZWCEnKkAtNxr4HfzfPgd4wUUILcLmj-HjF=s64",
      "userId": "08627660129346130290"
     },
     "user_tz": -60
    },
    "id": "69b873b8"
   },
   "outputs": [],
   "source": [
    "errors = []\n",
    "for i in range(len(test_sentences[:2000])):\n",
    "    if missclassified[i]:\n",
    "        errors.append(\"True label: \" + str(test_labels[i]) + \" Predicted label: \" + str(predictions_valid[i]) + \"          \" + test_sentences[i])"
   ]
  },
  {
   "cell_type": "code",
   "execution_count": 92,
   "id": "18dae1de",
   "metadata": {},
   "outputs": [
    {
     "data": {
      "text/plain": [
       "'True label: 1 Predicted label: 0          best bond movie ever! \"you\\'re joke-shop spies.\": \"the one & only, original, james bond.\" i\\'ve been waiting since i first seen this on cable for the dvd and it didn\\'t disappoint. i was already a 0-star fan before, but what makes this dvd great are the special features. for one i learned that peter sellers got fired for not showing up for one take that included scores of extras. i think he said he was ill. also, orson welles didn\\'t like him & was loathed to work with him. despite this, it\\'s interesting that sellers is credited as the star of the show. they also show the t.v. version which makes the feature seem as a work of high art.last, but not least, if one wonders about all those hot femmes as bit players, we\\'re told that the studio was made in the london\\'s playboy club. when one considers the bond catalog, its highs & lows, casino royale has to be near, if not the, top!'"
      ]
     },
     "execution_count": 92,
     "metadata": {},
     "output_type": "execute_result"
    }
   ],
   "source": [
    "errors[14]"
   ]
  },
  {
   "cell_type": "code",
   "execution_count": 93,
   "id": "cf9f3e63",
   "metadata": {},
   "outputs": [
    {
     "name": "stdout",
     "output_type": "stream",
     "text": [
      "Wall time: 15.1 s\n"
     ]
    }
   ],
   "source": [
    "%%time\n",
    "#We will use a dictionary to count the number of appearences of the words :)\n",
    "words = {}\n",
    "for i in range(len(train_sentences)):\n",
    "    for j in train_sentences[i].split():\n",
    "        if j not in stoplist_combined:\n",
    "            if j in words.keys():\n",
    "                words[j] += 1\n",
    "            else:\n",
    "                words[j] = 1"
   ]
  },
  {
   "cell_type": "code",
   "execution_count": 96,
   "id": "8b50abc9",
   "metadata": {},
   "outputs": [
    {
     "data": {
      "image/png": "[encoded data removed]",
      "text/plain": [
       "<Figure size 864x432 with 1 Axes>"
      ]
     },
     "metadata": {
      "needs_background": "light"
     },
     "output_type": "display_data"
    }
   ],
   "source": [
    "df_train = pd.DataFrame(list(zip(words.keys(), words.values())), columns =['Word', 'Count'])\n",
    "df_train.sort_values(by=\"Count\",ascending=False).head(30)\n",
    "plt.rcParams[\"figure.figsize\"] = (12,6)\n",
    "sns.barplot(x=\"Word\", y=\"Count\", data=df_train.sort_values(by=\"Count\",ascending=False).head(20))\n",
    "plt.xticks(fontsize=14, rotation=70)\n",
    "plt.xlabel(\"Word\",fontsize=18)\n",
    "plt.ylabel(\"Count\", fontsize = 18)\n",
    "plt.title(\"Most frequent words in 360,000 Amazon reviews\", fontsize=20);"
   ]
  },
  {
   "cell_type": "code",
   "execution_count": 112,
   "id": "ff767b05",
   "metadata": {},
   "outputs": [
    {
     "name": "stdout",
     "output_type": "stream",
     "text": [
      "Amazon Sentiment Analysis Accuracy:  80.925 +- 0.738\n"
     ]
    }
   ],
   "source": [
    "import statistics\n",
    "sd = statistics.stdev(accs)\n",
    "m = statistics.mean(accs)\n",
    "print(\"Amazon Sentiment Analysis Accuracy: \", m, \"+-\", round(sd,3))"
   ]
  },
  {
   "cell_type": "code",
   "execution_count": null,
   "id": "8ff47214",
   "metadata": {},
   "outputs": [],
   "source": []
  }
 ],
 "metadata": {
  "colab": {
   "name": "nlp-amazon-1.ipynb",
   "provenance": []
  },
  "kernelspec": {
   "display_name": "Python 3 (ipykernel)",
   "language": "python",
   "name": "python3"
  },
  "language_info": {
   "codemirror_mode": {
    "name": "ipython",
    "version": 3
   },
   "file_extension": ".py",
   "mimetype": "text/x-python",
   "name": "python",
   "nbconvert_exporter": "python",
   "pygments_lexer": "ipython3",
   "version": "3.7.9"
  }
 },
 "nbformat": 4,
 "nbformat_minor": 5
}
