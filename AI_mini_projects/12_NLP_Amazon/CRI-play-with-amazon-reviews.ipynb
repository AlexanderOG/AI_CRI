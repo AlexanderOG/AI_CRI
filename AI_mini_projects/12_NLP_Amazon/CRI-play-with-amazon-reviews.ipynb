{
 "cells": [
  {
   "cell_type": "markdown",
   "metadata": {
    "id": "hWaM_H7jbFHG"
   },
   "source": [
    "# Mini-Project on text mining\n",
    "# Amazon Reviews for Sentiment Analysis\n",
    "\n",
    "*Emmanuel Viennet 2019-12-15, 2020-12-02*\n",
    "\n",
    "Dataset: https://www.kaggle.com/bittlingmayer/amazonreviews\n",
    "\n",
    "\n",
    "The reviews are short texts (3.6 millions in training, and 400000 in testing), considered either positives (ratings 5 or 4 stars on Amazon) or negatives (1 or 2 stars). Neutral reviews (3 stars) are not included in this dataset."
   ]
  },
  {
   "cell_type": "code",
   "execution_count": 33,
   "metadata": {
    "id": "ZQtLdyhpbFHL",
    "outputId": "bfc65999-dc65-4fa4-e2da-cd6a0799a973"
   },
   "outputs": [
    {
     "name": "stdout",
     "output_type": "stream",
     "text": [
      "['test.ft.txt.bz2', 'train.ft.txt.bz2']\n"
     ]
    }
   ],
   "source": [
    "import numpy as np \n",
    "import pandas as pd \n",
    "import bz2\n",
    "import gc\n",
    "import re\n",
    "import os\n",
    "import matplotlib.pyplot as plt\n",
    "import seaborn as sns\n",
    "\n",
    "print(os.listdir(\"data\"))\n",
    "# To run on your own computer, you should download and unzip the \n",
    "# dataset in a subdirectory names \"data\"\n",
    "# see https://www.kaggle.com/bittlingmayer/amazonreviews\n",
    "# => ['test.ft.txt.bz2', 'train.ft.txt.bz2']"
   ]
  },
  {
   "cell_type": "markdown",
   "metadata": {
    "id": "aaeGd2WVbFHN"
   },
   "source": [
    "## Read and preprocess data"
   ]
  },
  {
   "cell_type": "code",
   "execution_count": 2,
   "metadata": {
    "id": "bG0f31tDbFHN"
   },
   "outputs": [],
   "source": [
    "train_file = bz2.BZ2File('data/train.ft.txt.bz2')\n",
    "test_file = bz2.BZ2File('data/test.ft.txt.bz2')"
   ]
  },
  {
   "cell_type": "markdown",
   "metadata": {
    "id": "4Ngt4sGtbFHO"
   },
   "source": [
    "### Create Lists containing Train & Test sentences"
   ]
  },
  {
   "cell_type": "code",
   "execution_count": 3,
   "metadata": {
    "id": "iZXbfdk_bFHO",
    "outputId": "0192d2cc-f439-4ffa-e814-89ab8ae55744"
   },
   "outputs": [
    {
     "data": {
      "text/plain": [
       "42"
      ]
     },
     "execution_count": 3,
     "metadata": {},
     "output_type": "execute_result"
    }
   ],
   "source": [
    "# Can take some time (20'' ... 2' depending on your hardware)\n",
    "train_file_lines = train_file.readlines()\n",
    "test_file_lines = test_file.readlines()\n",
    "# save memory\n",
    "del train_file, test_file\n",
    "gc.collect()"
   ]
  },
  {
   "cell_type": "code",
   "execution_count": 4,
   "metadata": {
    "id": "BFSBFunabFHO",
    "outputId": "ba92f785-8945-43ec-edb8-54b775ab339a"
   },
   "outputs": [
    {
     "data": {
      "text/plain": [
       "(3600000, 400000)"
      ]
     },
     "execution_count": 4,
     "metadata": {},
     "output_type": "execute_result"
    }
   ],
   "source": [
    "len(train_file_lines), len(test_file_lines)"
   ]
  },
  {
   "cell_type": "code",
   "execution_count": 5,
   "metadata": {
    "id": "xHgBZ1uObFHP",
    "outputId": "567d06ff-709f-4717-ebfb-4617ef71e651"
   },
   "outputs": [
    {
     "data": {
      "text/plain": [
       "b'__label__2 Stuning even for the non-gamer: This sound track was beautiful! It paints the senery in your mind so well I would recomend it even to people who hate vid. game music! I have played the game Chrono Cross but out of all of the games I have ever played it has the best music! It backs away from crude keyboarding and takes a fresher step with grate guitars and soulful orchestras. It would impress anyone who cares to listen! ^_^\\n'"
      ]
     },
     "execution_count": 5,
     "metadata": {},
     "output_type": "execute_result"
    }
   ],
   "source": [
    "train_file_lines[0]"
   ]
  },
  {
   "cell_type": "markdown",
   "metadata": {
    "id": "qp-621OPbFHQ"
   },
   "source": [
    "### Convert from raw binary strings to strings that can be parsed\n",
    "The previous cell shows that the data is in \"binary\" strings (byte sequences). In Python, it is easier to handle strings, represented as Unicode object (where a character may be coded as several bytes). The `decode` method build unicode strings from binary data, the argument specifies the encoding of the data bytes (here we know that our dataset is using UTF-8)."
   ]
  },
  {
   "cell_type": "code",
   "execution_count": 6,
   "metadata": {
    "id": "yroEda4vbFHR"
   },
   "outputs": [],
   "source": [
    "train_file_lines = [x.decode('utf-8') for x in train_file_lines]\n",
    "test_file_lines = [x.decode('utf-8') for x in test_file_lines]"
   ]
  },
  {
   "cell_type": "code",
   "execution_count": 7,
   "metadata": {
    "id": "V_zAOdDobFHR"
   },
   "outputs": [],
   "source": [
    "train_labels = np.array([0 if x.split(' ')[0] == '__label__1' else 1 for x in train_file_lines])\n",
    "train_sentences = [x.split(' ', 1)[1][:-1].lower() for x in train_file_lines]\n",
    "\n",
    "for i in range(len(train_sentences)):\n",
    "    train_sentences[i] = re.sub('\\d','0',train_sentences[i])\n",
    "    \n",
    "test_labels = np.array([0 if x.split(' ')[0] == '__label__1' else 1 for x in test_file_lines])\n",
    "test_sentences = [x.split(' ', 1)[1][:-1].lower() for x in test_file_lines]\n",
    "\n",
    "for i in range(len(test_sentences)):\n",
    "    test_sentences[i] = re.sub('\\d','0',test_sentences[i])\n",
    "                                                       \n",
    "for i in range(len(train_sentences)):\n",
    "    if 'www.' in train_sentences[i] or 'http:' in train_sentences[i] or 'https:' in train_sentences[i] or '.com' in train_sentences[i]:\n",
    "        train_sentences[i] = re.sub(r\"([^ ]+(?<=\\.[a-z]{3}))\", \"<url>\", train_sentences[i])\n",
    "        \n",
    "for i in range(len(test_sentences)):\n",
    "    if 'www.' in test_sentences[i] or 'http:' in test_sentences[i] or 'https:' in test_sentences[i] or '.com' in test_sentences[i]:\n",
    "        test_sentences[i] = re.sub(r\"([^ ]+(?<=\\.[a-z]{3}))\", \"<url>\", test_sentences[i])"
   ]
  },
  {
   "cell_type": "markdown",
   "metadata": {
    "id": "ji2aNPtMbFHS"
   },
   "source": [
    "**A negative example** a review associated to the class 0:"
   ]
  },
  {
   "cell_type": "code",
   "execution_count": 8,
   "metadata": {
    "id": "5LHFShBIbFHS",
    "outputId": "4a941c9b-7875-458b-b5fe-da7e543c5bc2"
   },
   "outputs": [
    {
     "data": {
      "text/plain": [
       "(\"the worst!: a complete waste of time. typographical errors, poor grammar, and a totally pathetic plot add up to absolutely nothing. i'm embarrassed for this author and very disappointed i actually paid for this book.\",\n",
       " 0)"
      ]
     },
     "execution_count": 8,
     "metadata": {},
     "output_type": "execute_result"
    }
   ],
   "source": [
    "train_sentences[10], train_labels[10]"
   ]
  },
  {
   "cell_type": "markdown",
   "metadata": {
    "id": "EMzI3WBlbFHS"
   },
   "source": [
    "**A positive example**"
   ]
  },
  {
   "cell_type": "code",
   "execution_count": 9,
   "metadata": {
    "id": "ATrzq9MWbFHS",
    "outputId": "83061193-8767-4181-eead-7e2a8dcaa338"
   },
   "outputs": [
    {
     "data": {
      "text/plain": [
       "(\"a five star book: i just finished reading whisper of the wicked saints. i fell in love with the caracters. i expected an average romance read, but instead i found one of my favorite books of all time. just when i thought i could predict the outcome i was shocked ! the writting was so descriptive that my heart broke when julia's did and i felt as if i was there with them instead of just a distant reader. if you are a lover of romance novels then this is a must read. don't let the cover fool you this book is spectacular!\",\n",
       " 1)"
      ]
     },
     "execution_count": 9,
     "metadata": {},
     "output_type": "execute_result"
    }
   ],
   "source": [
    "train_sentences[8], train_labels[8]"
   ]
  },
  {
   "cell_type": "code",
   "execution_count": 10,
   "metadata": {
    "id": "8oY1UAcnbFHT",
    "outputId": "24e540f0-3fa8-4e36-da2b-c958426ccdc4"
   },
   "outputs": [
    {
     "name": "stdout",
     "output_type": "stream",
     "text": [
      "Training set\n",
      "1800000 in class 0\n",
      "1800000 in class 1\n"
     ]
    }
   ],
   "source": [
    "print('Training set')\n",
    "print(f'{np.count_nonzero( train_labels == 0 )} in class 0')\n",
    "print(f'{np.count_nonzero( train_labels == 1 )} in class 1')"
   ]
  },
  {
   "cell_type": "markdown",
   "metadata": {
    "id": "5_nXreoVbFHT"
   },
   "source": [
    "# Questions\n",
    "\n",
    "1. Frequency analysis: what are the most frequent words in the reviews ?\n",
    "2. Apply standard NLP process (see lecture and https://www.kaggle.com/kanncaa1/applying-text-mining) and vectorize the text reviews.\n",
    "3. Build Naive Bayes, Linear Support Vector Machine and other models to predict the labels (positive/negatives). Discuss the results.\n",
    "4. Encode the text using a pretrained neural network (embedding). Can you build a better classifier ?\n"
   ]
  },
  {
   "cell_type": "markdown",
   "metadata": {},
   "source": [
    "## 1. Frequency analysis: what are the most frequent words in the reviews ?"
   ]
  },
  {
   "cell_type": "code",
   "execution_count": 29,
   "metadata": {
    "id": "cLcAW6AhbFHT"
   },
   "outputs": [
    {
     "name": "stdout",
     "output_type": "stream",
     "text": [
      "Wall time: 2min\n"
     ]
    }
   ],
   "source": [
    "%%time\n",
    "#We will use a dictionary to count the number of appearences of the words :)\n",
    "words = {}\n",
    "for i in range(len(train_sentences)):\n",
    "    for j in train_sentences[i].split():\n",
    "        if j in words.keys():\n",
    "            words[j] += 1\n",
    "        else:\n",
    "            words[j] = 1"
   ]
  },
  {
   "cell_type": "code",
   "execution_count": 30,
   "metadata": {},
   "outputs": [],
   "source": [
    "df_train = pd.DataFrame(list(zip(words.keys(), words.values())), columns =['Word', 'Count'])"
   ]
  },
  {
   "cell_type": "code",
   "execution_count": 31,
   "metadata": {},
   "outputs": [
    {
     "data": {
      "text/html": [
       "<div>\n",
       "<style scoped>\n",
       "    .dataframe tbody tr th:only-of-type {\n",
       "        vertical-align: middle;\n",
       "    }\n",
       "\n",
       "    .dataframe tbody tr th {\n",
       "        vertical-align: top;\n",
       "    }\n",
       "\n",
       "    .dataframe thead th {\n",
       "        text-align: right;\n",
       "    }\n",
       "</style>\n",
       "<table border=\"1\" class=\"dataframe\">\n",
       "  <thead>\n",
       "    <tr style=\"text-align: right;\">\n",
       "      <th></th>\n",
       "      <th>Word</th>\n",
       "      <th>Count</th>\n",
       "    </tr>\n",
       "  </thead>\n",
       "  <tbody>\n",
       "    <tr>\n",
       "      <th>3</th>\n",
       "      <td>the</td>\n",
       "      <td>14037613</td>\n",
       "    </tr>\n",
       "    <tr>\n",
       "      <th>45</th>\n",
       "      <td>and</td>\n",
       "      <td>7555656</td>\n",
       "    </tr>\n",
       "    <tr>\n",
       "      <th>18</th>\n",
       "      <td>i</td>\n",
       "      <td>7202082</td>\n",
       "    </tr>\n",
       "    <tr>\n",
       "      <th>47</th>\n",
       "      <td>a</td>\n",
       "      <td>7139490</td>\n",
       "    </tr>\n",
       "    <tr>\n",
       "      <th>21</th>\n",
       "      <td>to</td>\n",
       "      <td>6851962</td>\n",
       "    </tr>\n",
       "    <tr>\n",
       "      <th>34</th>\n",
       "      <td>of</td>\n",
       "      <td>5628214</td>\n",
       "    </tr>\n",
       "    <tr>\n",
       "      <th>5</th>\n",
       "      <td>this</td>\n",
       "      <td>5031158</td>\n",
       "    </tr>\n",
       "    <tr>\n",
       "      <th>68</th>\n",
       "      <td>is</td>\n",
       "      <td>4876303</td>\n",
       "    </tr>\n",
       "    <tr>\n",
       "      <th>10</th>\n",
       "      <td>it</td>\n",
       "      <td>4762160</td>\n",
       "    </tr>\n",
       "    <tr>\n",
       "      <th>13</th>\n",
       "      <td>in</td>\n",
       "      <td>3219443</td>\n",
       "    </tr>\n",
       "    <tr>\n",
       "      <th>2</th>\n",
       "      <td>for</td>\n",
       "      <td>3082966</td>\n",
       "    </tr>\n",
       "    <tr>\n",
       "      <th>67</th>\n",
       "      <td>that</td>\n",
       "      <td>2664613</td>\n",
       "    </tr>\n",
       "    <tr>\n",
       "      <th>8</th>\n",
       "      <td>was</td>\n",
       "      <td>2376150</td>\n",
       "    </tr>\n",
       "    <tr>\n",
       "      <th>327</th>\n",
       "      <td>not</td>\n",
       "      <td>2243549</td>\n",
       "    </tr>\n",
       "    <tr>\n",
       "      <th>102</th>\n",
       "      <td>you</td>\n",
       "      <td>2112920</td>\n",
       "    </tr>\n",
       "    <tr>\n",
       "      <th>50</th>\n",
       "      <td>with</td>\n",
       "      <td>2024704</td>\n",
       "    </tr>\n",
       "    <tr>\n",
       "      <th>32</th>\n",
       "      <td>but</td>\n",
       "      <td>1983581</td>\n",
       "    </tr>\n",
       "    <tr>\n",
       "      <th>96</th>\n",
       "      <td>on</td>\n",
       "      <td>1917459</td>\n",
       "    </tr>\n",
       "    <tr>\n",
       "      <th>28</th>\n",
       "      <td>have</td>\n",
       "      <td>1823553</td>\n",
       "    </tr>\n",
       "    <tr>\n",
       "      <th>77</th>\n",
       "      <td>my</td>\n",
       "      <td>1819935</td>\n",
       "    </tr>\n",
       "    <tr>\n",
       "      <th>162</th>\n",
       "      <td>as</td>\n",
       "      <td>1553134</td>\n",
       "    </tr>\n",
       "    <tr>\n",
       "      <th>103</th>\n",
       "      <td>are</td>\n",
       "      <td>1526637</td>\n",
       "    </tr>\n",
       "    <tr>\n",
       "      <th>376</th>\n",
       "      <td>book</td>\n",
       "      <td>1402904</td>\n",
       "    </tr>\n",
       "    <tr>\n",
       "      <th>113</th>\n",
       "      <td>be</td>\n",
       "      <td>1246938</td>\n",
       "    </tr>\n",
       "    <tr>\n",
       "      <th>111</th>\n",
       "      <td>one</td>\n",
       "      <td>1128534</td>\n",
       "    </tr>\n",
       "    <tr>\n",
       "      <th>16</th>\n",
       "      <td>so</td>\n",
       "      <td>1062277</td>\n",
       "    </tr>\n",
       "    <tr>\n",
       "      <th>501</th>\n",
       "      <td>very</td>\n",
       "      <td>1039576</td>\n",
       "    </tr>\n",
       "    <tr>\n",
       "      <th>101</th>\n",
       "      <td>if</td>\n",
       "      <td>1024330</td>\n",
       "    </tr>\n",
       "    <tr>\n",
       "      <th>657</th>\n",
       "      <td>they</td>\n",
       "      <td>980506</td>\n",
       "    </tr>\n",
       "    <tr>\n",
       "      <th>149</th>\n",
       "      <td>like</td>\n",
       "      <td>978614</td>\n",
       "    </tr>\n",
       "  </tbody>\n",
       "</table>\n",
       "</div>"
      ],
      "text/plain": [
       "     Word     Count\n",
       "3     the  14037613\n",
       "45    and   7555656\n",
       "18      i   7202082\n",
       "47      a   7139490\n",
       "21     to   6851962\n",
       "34     of   5628214\n",
       "5    this   5031158\n",
       "68     is   4876303\n",
       "10     it   4762160\n",
       "13     in   3219443\n",
       "2     for   3082966\n",
       "67   that   2664613\n",
       "8     was   2376150\n",
       "327   not   2243549\n",
       "102   you   2112920\n",
       "50   with   2024704\n",
       "32    but   1983581\n",
       "96     on   1917459\n",
       "28   have   1823553\n",
       "77     my   1819935\n",
       "162    as   1553134\n",
       "103   are   1526637\n",
       "376  book   1402904\n",
       "113    be   1246938\n",
       "111   one   1128534\n",
       "16     so   1062277\n",
       "501  very   1039576\n",
       "101    if   1024330\n",
       "657  they    980506\n",
       "149  like    978614"
      ]
     },
     "execution_count": 31,
     "metadata": {},
     "output_type": "execute_result"
    }
   ],
   "source": [
    "df_train.sort_values(by=\"Count\",ascending=False).head(30)"
   ]
  },
  {
   "cell_type": "code",
   "execution_count": 54,
   "metadata": {},
   "outputs": [
    {
     "data": {
      "image/png": "[encoded data removed]",
      "text/plain": [
       "<Figure size 864x432 with 1 Axes>"
      ]
     },
     "metadata": {
      "needs_background": "light"
     },
     "output_type": "display_data"
    }
   ],
   "source": [
    "plt.rcParams[\"figure.figsize\"] = (12,6)\n",
    "sns.barplot(x=\"Word\", y=\"Count\", data=df_train.sort_values(by=\"Count\",ascending=False).head(20))\n",
    "plt.xticks(fontsize=14, rotation=70)\n",
    "plt.xlabel(\"Word\",fontsize=18)\n",
    "plt.ylabel(\"Count\", fontsize = 18)\n",
    "plt.title(\"Most frequent words in 3.6 million Amazon reviews (Train)\", fontsize=20);"
   ]
  },
  {
   "cell_type": "code",
   "execution_count": 51,
   "metadata": {},
   "outputs": [
    {
     "name": "stdout",
     "output_type": "stream",
     "text": [
      "Wall time: 13.5 s\n"
     ]
    }
   ],
   "source": [
    "%%time\n",
    "#We will use a dictionary to count the number of appearences of the words :)\n",
    "words_test = {}\n",
    "for i in range(len(test_sentences)):\n",
    "    for j in test_sentences[i].split():\n",
    "        if j in words_test.keys():\n",
    "            words_test[j] += 1\n",
    "        else:\n",
    "            words_test[j] = 1"
   ]
  },
  {
   "cell_type": "code",
   "execution_count": 52,
   "metadata": {},
   "outputs": [],
   "source": [
    "df_test = pd.DataFrame(list(zip(words_test.keys(), words_test.values())), columns =['Word', 'Count'])"
   ]
  },
  {
   "cell_type": "code",
   "execution_count": 55,
   "metadata": {},
   "outputs": [
    {
     "data": {
      "image/png": "[encoded data removed]",
      "text/plain": [
       "<Figure size 864x432 with 1 Axes>"
      ]
     },
     "metadata": {
      "needs_background": "light"
     },
     "output_type": "display_data"
    }
   ],
   "source": [
    "plt.rcParams[\"figure.figsize\"] = (12,6)\n",
    "sns.barplot(x=\"Word\", y=\"Count\", data=df_test.sort_values(by=\"Count\",ascending=False).head(20))\n",
    "plt.xticks(fontsize=14, rotation=70)\n",
    "plt.xlabel(\"Word\",fontsize=18)\n",
    "plt.ylabel(\"Count\", fontsize = 18)\n",
    "plt.title(\"Most frequent words in 400,000 Amazon reviews (Test)\", fontsize=20);"
   ]
  },
  {
   "cell_type": "markdown",
   "metadata": {},
   "source": [
    "## 2. Apply standard NLP process and vectorize the text reviews."
   ]
  },
  {
   "cell_type": "code",
   "execution_count": 62,
   "metadata": {},
   "outputs": [
    {
     "name": "stderr",
     "output_type": "stream",
     "text": [
      "[nltk_data] Downloading package wordnet to\n",
      "[nltk_data]     C:\\Users\\Alex\\AppData\\Roaming\\nltk_data...\n",
      "[nltk_data]   Unzipping corpora\\wordnet.zip.\n"
     ]
    },
    {
     "data": {
      "text/plain": [
       "True"
      ]
     },
     "execution_count": 62,
     "metadata": {},
     "output_type": "execute_result"
    }
   ],
   "source": [
    "import nltk as nlp\n",
    "nlp.download('wordnet')"
   ]
  },
  {
   "cell_type": "code",
   "execution_count": null,
   "metadata": {},
   "outputs": [],
   "source": [
    "%%time\n",
    "# lemmatization\n",
    "lemma_train_sentences = []\n",
    "\n",
    "lemma = nlp.WordNetLemmatizer()\n",
    "for i in range(len(train_sentences)):\n",
    "    lemma_sentence = []\n",
    "    for j in train_sentences[i].split():\n",
    "        lemma_sentence.append(lemma.lemmatize(j))\n",
    "    lemma_train_sentences.append(lemma_sentence)"
   ]
  },
  {
   "cell_type": "code",
   "execution_count": null,
   "metadata": {},
   "outputs": [],
   "source": [
    "lemma_train_sentences[0]"
   ]
  },
  {
   "cell_type": "code",
   "execution_count": null,
   "metadata": {},
   "outputs": [],
   "source": []
  }
 ],
 "metadata": {
  "colab": {
   "name": "CRI-play-with-amazon-reviews.ipynb",
   "provenance": []
  },
  "kernelspec": {
   "display_name": "Python 3 (ipykernel)",
   "language": "python",
   "name": "python3"
  },
  "language_info": {
   "codemirror_mode": {
    "name": "ipython",
    "version": 3
   },
   "file_extension": ".py",
   "mimetype": "text/x-python",
   "name": "python",
   "nbconvert_exporter": "python",
   "pygments_lexer": "ipython3",
   "version": "3.7.9"
  }
 },
 "nbformat": 4,
 "nbformat_minor": 1
}
