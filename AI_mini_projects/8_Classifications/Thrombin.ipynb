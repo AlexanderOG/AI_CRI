{
 "cells": [
  {
   "cell_type": "code",
   "execution_count": 66,
   "id": "5b6ab81f",
   "metadata": {},
   "outputs": [],
   "source": [
    "import pandas as pd\n",
    "import numpy as np\n",
    "import matplotlib.pyplot as plt\n",
    "\n",
    "from sklearn.linear_model import LogisticRegression\n",
    "from sklearn.model_selection import train_test_split\n",
    "\n",
    "import warnings\n",
    "warnings.filterwarnings('ignore')"
   ]
  },
  {
   "cell_type": "code",
   "execution_count": 2,
   "id": "90127ab2",
   "metadata": {
    "scrolled": true
   },
   "outputs": [
    {
     "data": {
      "text/html": [
       "<div>\n",
       "<style scoped>\n",
       "    .dataframe tbody tr th:only-of-type {\n",
       "        vertical-align: middle;\n",
       "    }\n",
       "\n",
       "    .dataframe tbody tr th {\n",
       "        vertical-align: top;\n",
       "    }\n",
       "\n",
       "    .dataframe thead th {\n",
       "        text-align: right;\n",
       "    }\n",
       "</style>\n",
       "<table border=\"1\" class=\"dataframe\">\n",
       "  <thead>\n",
       "    <tr style=\"text-align: right;\">\n",
       "      <th></th>\n",
       "      <th>I</th>\n",
       "      <th>0</th>\n",
       "      <th>0.1</th>\n",
       "      <th>0.2</th>\n",
       "      <th>0.3</th>\n",
       "      <th>0.4</th>\n",
       "      <th>0.5</th>\n",
       "      <th>0.6</th>\n",
       "      <th>0.7</th>\n",
       "      <th>0.8</th>\n",
       "      <th>...</th>\n",
       "      <th>0.138529</th>\n",
       "      <th>0.138530</th>\n",
       "      <th>0.138531</th>\n",
       "      <th>0.138532</th>\n",
       "      <th>0.138533</th>\n",
       "      <th>0.138534</th>\n",
       "      <th>0.138535</th>\n",
       "      <th>0.138536</th>\n",
       "      <th>0.138537</th>\n",
       "      <th>0.138538</th>\n",
       "    </tr>\n",
       "  </thead>\n",
       "  <tbody>\n",
       "    <tr>\n",
       "      <th>0</th>\n",
       "      <td>I</td>\n",
       "      <td>0</td>\n",
       "      <td>0</td>\n",
       "      <td>0</td>\n",
       "      <td>0</td>\n",
       "      <td>0</td>\n",
       "      <td>0</td>\n",
       "      <td>0</td>\n",
       "      <td>0</td>\n",
       "      <td>0</td>\n",
       "      <td>...</td>\n",
       "      <td>0</td>\n",
       "      <td>0</td>\n",
       "      <td>0</td>\n",
       "      <td>0</td>\n",
       "      <td>0</td>\n",
       "      <td>0</td>\n",
       "      <td>0</td>\n",
       "      <td>0</td>\n",
       "      <td>0</td>\n",
       "      <td>0</td>\n",
       "    </tr>\n",
       "    <tr>\n",
       "      <th>1</th>\n",
       "      <td>I</td>\n",
       "      <td>0</td>\n",
       "      <td>0</td>\n",
       "      <td>0</td>\n",
       "      <td>0</td>\n",
       "      <td>0</td>\n",
       "      <td>0</td>\n",
       "      <td>0</td>\n",
       "      <td>0</td>\n",
       "      <td>0</td>\n",
       "      <td>...</td>\n",
       "      <td>0</td>\n",
       "      <td>0</td>\n",
       "      <td>0</td>\n",
       "      <td>0</td>\n",
       "      <td>0</td>\n",
       "      <td>0</td>\n",
       "      <td>0</td>\n",
       "      <td>0</td>\n",
       "      <td>0</td>\n",
       "      <td>0</td>\n",
       "    </tr>\n",
       "    <tr>\n",
       "      <th>2</th>\n",
       "      <td>I</td>\n",
       "      <td>0</td>\n",
       "      <td>0</td>\n",
       "      <td>0</td>\n",
       "      <td>0</td>\n",
       "      <td>0</td>\n",
       "      <td>0</td>\n",
       "      <td>0</td>\n",
       "      <td>0</td>\n",
       "      <td>0</td>\n",
       "      <td>...</td>\n",
       "      <td>0</td>\n",
       "      <td>0</td>\n",
       "      <td>0</td>\n",
       "      <td>0</td>\n",
       "      <td>0</td>\n",
       "      <td>0</td>\n",
       "      <td>0</td>\n",
       "      <td>0</td>\n",
       "      <td>0</td>\n",
       "      <td>0</td>\n",
       "    </tr>\n",
       "    <tr>\n",
       "      <th>3</th>\n",
       "      <td>I</td>\n",
       "      <td>0</td>\n",
       "      <td>0</td>\n",
       "      <td>0</td>\n",
       "      <td>0</td>\n",
       "      <td>0</td>\n",
       "      <td>0</td>\n",
       "      <td>0</td>\n",
       "      <td>0</td>\n",
       "      <td>0</td>\n",
       "      <td>...</td>\n",
       "      <td>0</td>\n",
       "      <td>0</td>\n",
       "      <td>0</td>\n",
       "      <td>0</td>\n",
       "      <td>0</td>\n",
       "      <td>0</td>\n",
       "      <td>0</td>\n",
       "      <td>0</td>\n",
       "      <td>0</td>\n",
       "      <td>0</td>\n",
       "    </tr>\n",
       "    <tr>\n",
       "      <th>4</th>\n",
       "      <td>I</td>\n",
       "      <td>0</td>\n",
       "      <td>0</td>\n",
       "      <td>0</td>\n",
       "      <td>0</td>\n",
       "      <td>0</td>\n",
       "      <td>0</td>\n",
       "      <td>0</td>\n",
       "      <td>0</td>\n",
       "      <td>0</td>\n",
       "      <td>...</td>\n",
       "      <td>0</td>\n",
       "      <td>0</td>\n",
       "      <td>0</td>\n",
       "      <td>0</td>\n",
       "      <td>0</td>\n",
       "      <td>0</td>\n",
       "      <td>0</td>\n",
       "      <td>0</td>\n",
       "      <td>0</td>\n",
       "      <td>0</td>\n",
       "    </tr>\n",
       "  </tbody>\n",
       "</table>\n",
       "<p>5 rows × 139352 columns</p>\n",
       "</div>"
      ],
      "text/plain": [
       "   I  0  0.1  0.2  0.3  0.4  0.5  0.6  0.7  0.8  ...  0.138529  0.138530  \\\n",
       "0  I  0    0    0    0    0    0    0    0    0  ...         0         0   \n",
       "1  I  0    0    0    0    0    0    0    0    0  ...         0         0   \n",
       "2  I  0    0    0    0    0    0    0    0    0  ...         0         0   \n",
       "3  I  0    0    0    0    0    0    0    0    0  ...         0         0   \n",
       "4  I  0    0    0    0    0    0    0    0    0  ...         0         0   \n",
       "\n",
       "   0.138531  0.138532  0.138533  0.138534  0.138535  0.138536  0.138537  \\\n",
       "0         0         0         0         0         0         0         0   \n",
       "1         0         0         0         0         0         0         0   \n",
       "2         0         0         0         0         0         0         0   \n",
       "3         0         0         0         0         0         0         0   \n",
       "4         0         0         0         0         0         0         0   \n",
       "\n",
       "   0.138538  \n",
       "0         0  \n",
       "1         0  \n",
       "2         0  \n",
       "3         0  \n",
       "4         0  \n",
       "\n",
       "[5 rows x 139352 columns]"
      ]
     },
     "execution_count": 2,
     "metadata": {},
     "output_type": "execute_result"
    }
   ],
   "source": [
    "train_path = \"data/Thrombin/thrombin_train.csv\"\n",
    "df = pd.read_csv(train_path)\n",
    "df.head()"
   ]
  },
  {
   "cell_type": "code",
   "execution_count": 5,
   "id": "db2cfc21",
   "metadata": {},
   "outputs": [
    {
     "data": {
      "text/plain": [
       "I    1866\n",
       "A      42\n",
       "Name: I, dtype: int64"
      ]
     },
     "execution_count": 5,
     "metadata": {},
     "output_type": "execute_result"
    }
   ],
   "source": [
    "df.I.value_counts()"
   ]
  },
  {
   "cell_type": "code",
   "execution_count": 68,
   "id": "e59ffc04",
   "metadata": {},
   "outputs": [
    {
     "data": {
      "text/plain": [
       "(1908, 139352)"
      ]
     },
     "execution_count": 68,
     "metadata": {},
     "output_type": "execute_result"
    }
   ],
   "source": [
    "df.shape"
   ]
  },
  {
   "cell_type": "markdown",
   "id": "7004f647",
   "metadata": {},
   "source": [
    "# First we do the Logisitic Regression for the thrombin data set"
   ]
  },
  {
   "cell_type": "code",
   "execution_count": 10,
   "id": "ae1dd73c",
   "metadata": {},
   "outputs": [],
   "source": [
    "x = df.drop(columns=[\"I\"])\n",
    "y = df.I"
   ]
  },
  {
   "cell_type": "code",
   "execution_count": 13,
   "id": "14238d31",
   "metadata": {},
   "outputs": [],
   "source": [
    "X_train, X_test, y_train, y_test = train_test_split(x, y, test_size=0.2, random_state=1, stratify=y)"
   ]
  },
  {
   "cell_type": "code",
   "execution_count": 14,
   "id": "12f2c41e",
   "metadata": {},
   "outputs": [
    {
     "data": {
      "text/plain": [
       "I    1492\n",
       "A      34\n",
       "Name: I, dtype: int64"
      ]
     },
     "execution_count": 14,
     "metadata": {},
     "output_type": "execute_result"
    }
   ],
   "source": [
    "y_train.value_counts()"
   ]
  },
  {
   "cell_type": "code",
   "execution_count": 15,
   "id": "2bd2a778",
   "metadata": {},
   "outputs": [
    {
     "data": {
      "text/plain": [
       "I    374\n",
       "A      8\n",
       "Name: I, dtype: int64"
      ]
     },
     "execution_count": 15,
     "metadata": {},
     "output_type": "execute_result"
    }
   ],
   "source": [
    "y_test.value_counts()"
   ]
  },
  {
   "cell_type": "code",
   "execution_count": 53,
   "id": "12d453fd",
   "metadata": {},
   "outputs": [
    {
     "name": "stdout",
     "output_type": "stream",
     "text": [
      "Wall time: 28 s\n"
     ]
    },
    {
     "data": {
      "text/plain": [
       "LogisticRegression(random_state=0)"
      ]
     },
     "execution_count": 53,
     "metadata": {},
     "output_type": "execute_result"
    }
   ],
   "source": [
    "%%time\n",
    "reg_model = LogisticRegression(random_state=0)\n",
    "reg_model.fit(X_train, y_train);"
   ]
  },
  {
   "cell_type": "code",
   "execution_count": 70,
   "id": "ba52ff48",
   "metadata": {
    "scrolled": true
   },
   "outputs": [
    {
     "name": "stdout",
     "output_type": "stream",
     "text": [
      "\n",
      "Metrics for test set with Logistic Regression\n",
      "\n",
      "Accuracy:  0.984\n",
      "Precision:  1.0\n",
      "Recall:  0.25\n",
      "Balanced accuracy:  0.625\n",
      "Wall time: 3.9 s\n"
     ]
    },
    {
     "data": {
      "text/plain": [
       "<sklearn.metrics._plot.confusion_matrix.ConfusionMatrixDisplay at 0x220824b3848>"
      ]
     },
     "execution_count": 70,
     "metadata": {},
     "output_type": "execute_result"
    },
    {
     "data": {
      "image/png": "[encoded data removed]",
      "text/plain": [
       "<Figure size 432x288 with 2 Axes>"
      ]
     },
     "metadata": {
      "needs_background": "light"
     },
     "output_type": "display_data"
    }
   ],
   "source": [
    "%%time\n",
    "y_predicted = reg_model.predict(X_test)\n",
    "get_metrics(\"Metrics for test set with Logistic Regression\", y_test,y_predicted)\n",
    "plot_confusion_matrix(reg_model, X_test, y_test);"
   ]
  },
  {
   "cell_type": "code",
   "execution_count": 63,
   "id": "e92b3a48",
   "metadata": {},
   "outputs": [],
   "source": [
    "from sklearn.metrics import accuracy_score\n",
    "from sklearn.metrics import precision_score\n",
    "from sklearn.metrics import recall_score\n",
    "from sklearn.metrics import balanced_accuracy_score\n",
    "from sklearn.metrics import plot_confusion_matrix\n",
    "\n",
    "def get_metrics(intro_text, y_true, y_predicted):\n",
    "    print(\"\\n\" + intro_text + \"\\n\")\n",
    "    print(\"Accuracy: \",round(accuracy_score(y_true, y_predicted),3))\n",
    "    print(\"Precision: \",round(precision_score(y_true, y_predicted, pos_label='A'),3))\n",
    "    print(\"Recall: \",round(recall_score(y_true, y_predicted, pos_label='A'),3))\n",
    "    print(\"Balanced accuracy: \",round(balanced_accuracy_score(y_true, y_predicted),3))"
   ]
  },
  {
   "cell_type": "code",
   "execution_count": 69,
   "id": "7977aaf4",
   "metadata": {},
   "outputs": [
    {
     "name": "stdout",
     "output_type": "stream",
     "text": [
      "\n",
      "Metrics for training set with Logistic Regression\n",
      "\n",
      "Accuracy:  0.999\n",
      "Precision:  1.0\n",
      "Recall:  0.971\n",
      "Balanced accuracy:  0.985\n",
      "Wall time: 14.6 s\n"
     ]
    },
    {
     "data": {
      "text/plain": [
       "<sklearn.metrics._plot.confusion_matrix.ConfusionMatrixDisplay at 0x22083a7f648>"
      ]
     },
     "execution_count": 69,
     "metadata": {},
     "output_type": "execute_result"
    },
    {
     "data": {
      "image/png": "[encoded data removed]",
      "text/plain": [
       "<Figure size 432x288 with 2 Axes>"
      ]
     },
     "metadata": {
      "needs_background": "light"
     },
     "output_type": "display_data"
    }
   ],
   "source": [
    "%%time\n",
    "y_predicted = reg_model.predict(X_train)\n",
    "get_metrics(\"Metrics for training set with Logistic Regression\", y_train ,y_predicted)\n",
    "plot_confusion_matrix(reg_model, X_train, y_train);"
   ]
  },
  {
   "cell_type": "markdown",
   "id": "f4f11195",
   "metadata": {},
   "source": [
    "# Now we train a SVM for the thrombin data set"
   ]
  },
  {
   "cell_type": "code",
   "execution_count": 116,
   "id": "eb757795",
   "metadata": {},
   "outputs": [],
   "source": [
    "from sklearn.svm import SVC\n",
    "from sklearn.model_selection import GridSearchCV"
   ]
  },
  {
   "cell_type": "code",
   "execution_count": 117,
   "id": "df248caa",
   "metadata": {},
   "outputs": [
    {
     "name": "stdout",
     "output_type": "stream",
     "text": [
      "Wall time: 1min 10s\n"
     ]
    },
    {
     "data": {
      "text/plain": [
       "SVC(C=1, kernel='linear')"
      ]
     },
     "execution_count": 117,
     "metadata": {},
     "output_type": "execute_result"
    }
   ],
   "source": [
    "%%time\n",
    "svm = SVC(kernel='linear', C=1)\n",
    "svm.fit(X_train,y_train)"
   ]
  },
  {
   "cell_type": "code",
   "execution_count": 118,
   "id": "5baad5ab",
   "metadata": {},
   "outputs": [
    {
     "name": "stdout",
     "output_type": "stream",
     "text": [
      "\n",
      "Metrics for test set with SVM\n",
      "\n",
      "Accuracy:  0.984\n",
      "Precision:  1.0\n",
      "Recall:  0.25\n",
      "Balanced accuracy:  0.625\n",
      "Wall time: 38.9 s\n"
     ]
    },
    {
     "data": {
      "text/plain": [
       "<sklearn.metrics._plot.confusion_matrix.ConfusionMatrixDisplay at 0x220871d7d48>"
      ]
     },
     "execution_count": 118,
     "metadata": {},
     "output_type": "execute_result"
    },
    {
     "data": {
      "image/png": "[encoded data removed]",
      "text/plain": [
       "<Figure size 432x288 with 2 Axes>"
      ]
     },
     "metadata": {
      "needs_background": "light"
     },
     "output_type": "display_data"
    }
   ],
   "source": [
    "%%time\n",
    "y_predicted = svm.predict(X_test)\n",
    "get_metrics(\"Metrics for test set with SVM\", y_test,y_predicted)\n",
    "plot_confusion_matrix(svm, X_test, y_test);"
   ]
  },
  {
   "cell_type": "code",
   "execution_count": 119,
   "id": "c3d38f37",
   "metadata": {},
   "outputs": [
    {
     "name": "stdout",
     "output_type": "stream",
     "text": [
      "\n",
      "Metrics for training set with SVM\n",
      "\n",
      "Accuracy:  0.999\n",
      "Precision:  1.0\n",
      "Recall:  0.971\n",
      "Balanced accuracy:  0.985\n",
      "Wall time: 1min 21s\n"
     ]
    },
    {
     "data": {
      "text/plain": [
       "<sklearn.metrics._plot.confusion_matrix.ConfusionMatrixDisplay at 0x220871d3488>"
      ]
     },
     "execution_count": 119,
     "metadata": {},
     "output_type": "execute_result"
    },
    {
     "data": {
      "image/png": "[encoded data removed]",
      "text/plain": [
       "<Figure size 432x288 with 2 Axes>"
      ]
     },
     "metadata": {
      "needs_background": "light"
     },
     "output_type": "display_data"
    }
   ],
   "source": [
    "%%time\n",
    "y_predicted = reg_model.predict(X_train)\n",
    "get_metrics(\"Metrics for training set with SVM\", y_train ,y_predicted)\n",
    "plot_confusion_matrix(svm, X_train, y_train);"
   ]
  },
  {
   "cell_type": "code",
   "execution_count": 82,
   "id": "9ff24e84",
   "metadata": {},
   "outputs": [
    {
     "name": "stdout",
     "output_type": "stream",
     "text": [
      "Wall time: 13min 12s\n"
     ]
    }
   ],
   "source": [
    "%%time\n",
    "best_recall = 0\n",
    "best_c = 0\n",
    "c_list = [0.01,0.05,0.1,0.2,0.3,0.4,0.5,0.6,0.7,0.8,0.9]\n",
    "recalls = []\n",
    "for c in c_list:\n",
    "    model = SVC(kernel='linear', C=c)\n",
    "    model.fit(X_train,y_train)\n",
    "    y_predicted = model.predict(X_test)\n",
    "    r = recall_score(y_test, y_predicted, pos_label='A')\n",
    "    recalls.append(r)\n",
    "    if r > best_recall:\n",
    "        best_recall = r\n",
    "        best_c = c"
   ]
  },
  {
   "cell_type": "code",
   "execution_count": 83,
   "id": "b8b46706",
   "metadata": {},
   "outputs": [
    {
     "data": {
      "text/plain": [
       "0.25"
      ]
     },
     "execution_count": 83,
     "metadata": {},
     "output_type": "execute_result"
    }
   ],
   "source": [
    "best_recall"
   ]
  },
  {
   "cell_type": "code",
   "execution_count": 84,
   "id": "67487d8e",
   "metadata": {},
   "outputs": [
    {
     "data": {
      "text/plain": [
       "0.01"
      ]
     },
     "execution_count": 84,
     "metadata": {},
     "output_type": "execute_result"
    }
   ],
   "source": [
    "best_c"
   ]
  },
  {
   "cell_type": "code",
   "execution_count": 86,
   "id": "6727da76",
   "metadata": {},
   "outputs": [
    {
     "data": {
      "text/plain": [
       "Text(0.5, 1.0, 'Recall in test set vs. C in SVM')"
      ]
     },
     "execution_count": 86,
     "metadata": {},
     "output_type": "execute_result"
    },
    {
     "data": {
      "image/png": "[encoded data removed]",
      "text/plain": [
       "<Figure size 432x288 with 1 Axes>"
      ]
     },
     "metadata": {
      "needs_background": "light"
     },
     "output_type": "display_data"
    }
   ],
   "source": [
    "plt.plot(c_list,recalls)\n",
    "plt.xlabel(\"C\")\n",
    "plt.ylabel(\"Recall\")\n",
    "plt.title(\"Recall in test set vs. C in SVM\")"
   ]
  },
  {
   "cell_type": "code",
   "execution_count": 87,
   "id": "bc10e5e5",
   "metadata": {},
   "outputs": [
    {
     "name": "stdout",
     "output_type": "stream",
     "text": [
      "Wall time: 7min 44s\n"
     ]
    }
   ],
   "source": [
    "%%time\n",
    "best_recall = 0\n",
    "best_k = ''\n",
    "k_list = ['linear', 'poly', 'rbf', 'sigmoid']\n",
    "recalls = []\n",
    "for k in k_list:\n",
    "    model = SVC(kernel=k)\n",
    "    model.fit(X_train,y_train)\n",
    "    y_predicted = model.predict(X_test)\n",
    "    r = recall_score(y_test, y_predicted, pos_label='A')\n",
    "    recalls.append(r)\n",
    "    if r > best_recall:\n",
    "        best_recall = r\n",
    "        best_k = k"
   ]
  },
  {
   "cell_type": "code",
   "execution_count": 88,
   "id": "ba660b4f",
   "metadata": {},
   "outputs": [
    {
     "data": {
      "text/plain": [
       "0.25"
      ]
     },
     "execution_count": 88,
     "metadata": {},
     "output_type": "execute_result"
    }
   ],
   "source": [
    "best_recall"
   ]
  },
  {
   "cell_type": "code",
   "execution_count": 89,
   "id": "6ed812be",
   "metadata": {},
   "outputs": [
    {
     "data": {
      "text/plain": [
       "'linear'"
      ]
     },
     "execution_count": 89,
     "metadata": {},
     "output_type": "execute_result"
    }
   ],
   "source": [
    "best_k"
   ]
  },
  {
   "cell_type": "code",
   "execution_count": 92,
   "id": "e7824622",
   "metadata": {},
   "outputs": [
    {
     "data": {
      "text/plain": [
       "Text(0.5, 1.0, 'Recall in test set vs. kernel in SVM')"
      ]
     },
     "execution_count": 92,
     "metadata": {},
     "output_type": "execute_result"
    },
    {
     "data": {
      "image/png": "[encoded data removed]",
      "text/plain": [
       "<Figure size 432x288 with 1 Axes>"
      ]
     },
     "metadata": {
      "needs_background": "light"
     },
     "output_type": "display_data"
    }
   ],
   "source": [
    "plt.plot(k_list,recalls)\n",
    "plt.xlabel(\"Kernel\")\n",
    "plt.ylabel(\"Recall\")\n",
    "plt.title(\"Recall in test set vs. kernel in SVM\")"
   ]
  },
  {
   "cell_type": "markdown",
   "id": "77e7d049",
   "metadata": {},
   "source": [
    "# Now we train a Random Forest for the thrombin data set"
   ]
  },
  {
   "cell_type": "code",
   "execution_count": 120,
   "id": "7f81d5f7",
   "metadata": {},
   "outputs": [],
   "source": [
    "from sklearn.ensemble import RandomForestClassifier"
   ]
  },
  {
   "cell_type": "code",
   "execution_count": 121,
   "id": "866870be",
   "metadata": {},
   "outputs": [
    {
     "name": "stdout",
     "output_type": "stream",
     "text": [
      "Wall time: 36.3 s\n"
     ]
    },
    {
     "data": {
      "text/plain": [
       "RandomForestClassifier(random_state=0)"
      ]
     },
     "execution_count": 121,
     "metadata": {},
     "output_type": "execute_result"
    }
   ],
   "source": [
    "%%time\n",
    "forest = RandomForestClassifier(n_estimators=100, random_state=0)\n",
    "forest.fit(X_train, y_train)"
   ]
  },
  {
   "cell_type": "code",
   "execution_count": 125,
   "id": "3aa73051",
   "metadata": {},
   "outputs": [
    {
     "name": "stdout",
     "output_type": "stream",
     "text": [
      "\n",
      "Metrics for test set with Random forest with 10,000 trees\n",
      "\n",
      "Accuracy:  0.984\n",
      "Precision:  1.0\n",
      "Recall:  0.25\n",
      "Balanced accuracy:  0.625\n",
      "Wall time: 2.88 s\n"
     ]
    },
    {
     "data": {
      "text/plain": [
       "<sklearn.metrics._plot.confusion_matrix.ConfusionMatrixDisplay at 0x220877a2388>"
      ]
     },
     "execution_count": 125,
     "metadata": {},
     "output_type": "execute_result"
    },
    {
     "data": {
      "image/png": "[encoded data removed]",
      "text/plain": [
       "<Figure size 432x288 with 2 Axes>"
      ]
     },
     "metadata": {
      "needs_background": "light"
     },
     "output_type": "display_data"
    }
   ],
   "source": [
    "%%time\n",
    "y_predicted = forest.predict(X_test)\n",
    "get_metrics(\"Metrics for test set with Random forest with 10,000 trees\", y_test,y_predicted)\n",
    "plot_confusion_matrix(forest, X_test, y_test);"
   ]
  },
  {
   "cell_type": "code",
   "execution_count": 115,
   "id": "82b07236",
   "metadata": {},
   "outputs": [
    {
     "name": "stdout",
     "output_type": "stream",
     "text": [
      "\n",
      "Metrics for training set with Random forest with 10,000 trees\n",
      "\n",
      "Accuracy:  0.999\n",
      "Precision:  1.0\n",
      "Recall:  0.971\n",
      "Balanced accuracy:  0.985\n",
      "Wall time: 12.4 s\n"
     ]
    },
    {
     "data": {
      "text/plain": [
       "<sklearn.metrics._plot.confusion_matrix.ConfusionMatrixDisplay at 0x220866070c8>"
      ]
     },
     "execution_count": 115,
     "metadata": {},
     "output_type": "execute_result"
    },
    {
     "data": {
      "image/png": "[encoded data removed]",
      "text/plain": [
       "<Figure size 432x288 with 2 Axes>"
      ]
     },
     "metadata": {
      "needs_background": "light"
     },
     "output_type": "display_data"
    }
   ],
   "source": [
    "%%time\n",
    "y_predicted = reg_model.predict(X_train)\n",
    "get_metrics(\"Metrics for training set with Random forest with 10,000 trees\", y_train ,y_predicted)\n",
    "plot_confusion_matrix(forest, X_train, y_train);"
   ]
  },
  {
   "cell_type": "code",
   "execution_count": 124,
   "id": "500e3c24",
   "metadata": {},
   "outputs": [
    {
     "data": {
      "text/plain": [
       "Text(0.5, 1.0, 'Computation time required for fitting each model')"
      ]
     },
     "execution_count": 124,
     "metadata": {},
     "output_type": "execute_result"
    },
    {
     "data": {
      "image/png": "[encoded data removed]",
      "text/plain": [
       "<Figure size 432x288 with 1 Axes>"
      ]
     },
     "metadata": {
      "needs_background": "light"
     },
     "output_type": "display_data"
    }
   ],
   "source": [
    "training_times = [28, 70, 36.3]\n",
    "models = [\"Log. Reg.\", \"SVM\", \"Forest\"]\n",
    "plt.bar(models,training_times)\n",
    "plt.ylabel(\"Time (s)\")\n",
    "plt.xlabel(\"Model\")\n",
    "plt.title(\"Computation time required for fitting each model\")"
   ]
  },
  {
   "cell_type": "code",
   "execution_count": 127,
   "id": "104a0850",
   "metadata": {},
   "outputs": [
    {
     "data": {
      "text/plain": [
       "Text(0.5, 1.0, 'Computation time required for predicting with each model')"
      ]
     },
     "execution_count": 127,
     "metadata": {},
     "output_type": "execute_result"
    },
    {
     "data": {
      "image/png": "[encoded data removed]",
      "text/plain": [
       "<Figure size 432x288 with 1 Axes>"
      ]
     },
     "metadata": {
      "needs_background": "light"
     },
     "output_type": "display_data"
    }
   ],
   "source": [
    "prediction_times = [3.9, 38.9, 2.88]\n",
    "models = [\"Log. Reg.\", \"SVM\", \"Forest\"]\n",
    "plt.bar(models,prediction_times)\n",
    "plt.ylabel(\"Time (s)\")\n",
    "plt.xlabel(\"Model\")\n",
    "plt.title(\"Computation time required for predicting with each model\")"
   ]
  },
  {
   "cell_type": "code",
   "execution_count": null,
   "id": "a20b0790",
   "metadata": {},
   "outputs": [],
   "source": []
  }
 ],
 "metadata": {
  "kernelspec": {
   "display_name": "Python 3 (ipykernel)",
   "language": "python",
   "name": "python3"
  },
  "language_info": {
   "codemirror_mode": {
    "name": "ipython",
    "version": 3
   },
   "file_extension": ".py",
   "mimetype": "text/x-python",
   "name": "python",
   "nbconvert_exporter": "python",
   "pygments_lexer": "ipython3",
   "version": "3.7.9"
  }
 },
 "nbformat": 4,
 "nbformat_minor": 5
}
