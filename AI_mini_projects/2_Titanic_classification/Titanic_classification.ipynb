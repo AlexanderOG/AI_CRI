{
 "cells": [
  {
   "cell_type": "code",
   "execution_count": 1,
   "metadata": {
    "id": "JyuOR-vTThYo"
   },
   "outputs": [],
   "source": [
    "import pandas as pd\n",
    "from sklearn.neighbors import KNeighborsRegressor\n",
    "from sklearn.model_selection import cross_validate\n",
    "from sklearn.preprocessing import MinMaxScaler\n",
    "import matplotlib.pyplot as plt\n",
    "from sklearn.linear_model import LinearRegression\n",
    "from sklearn.linear_model import LogisticRegression\n",
    "from sklearn.model_selection import learning_curve\n",
    "import numpy as np\n",
    "import statistics\n",
    "\n",
    "from sklearn.model_selection import cross_val_score\n",
    "from sklearn.discriminant_analysis import LinearDiscriminantAnalysis as LDA\n",
    "from sklearn.model_selection import train_test_split\n",
    "from sklearn.metrics import r2_score\n",
    "\n",
    "from sklearn.inspection import permutation_importance"
   ]
  },
  {
   "cell_type": "code",
   "execution_count": 2,
   "metadata": {
    "id": "_HNRQ8xDT0N1"
   },
   "outputs": [],
   "source": [
    "data = pd.read_csv('https://raw.githubusercontent.com/AlexanderOG/AI_CRI/main/train.csv')\n",
    "test_data = pd.read_csv(\"https://raw.githubusercontent.com/AlexanderOG/AI_CRI/main/test.csv\")"
   ]
  },
  {
   "cell_type": "markdown",
   "metadata": {
    "id": "1_ubeZKwUe0V"
   },
   "source": [
    "## **1. Feature Engineering**"
   ]
  },
  {
   "cell_type": "code",
   "execution_count": 3,
   "metadata": {
    "id": "Icnyl5qwT016"
   },
   "outputs": [],
   "source": [
    "#Encoding the Sex variable\n",
    "def encode_sex(x):\n",
    "    if x == 'male':\n",
    "        return 0\n",
    "    elif x == 'female':\n",
    "        return 1\n",
    "\n",
    "data['Sexcode'] = data['Sex'].apply(encode_sex)\n",
    "test_data['Sexcode'] = test_data['Sex'].apply(encode_sex)"
   ]
  },
  {
   "cell_type": "code",
   "execution_count": 4,
   "metadata": {
    "id": "TO9VEQiaUR6i"
   },
   "outputs": [],
   "source": [
    "#Creating a new variable: 5 categories for the different prices paid (Fare)\n",
    "def categorize_fare(x):\n",
    "  if x == 0:\n",
    "        return 0\n",
    "  elif x < 15:\n",
    "        return 1\n",
    "  elif x < 30:\n",
    "        return 2\n",
    "  elif x < 100:\n",
    "        return 3\n",
    "  else:\n",
    "        return 4\n",
    "data['FareCat']= data['Fare'].apply(categorize_fare)\n",
    "test_data['FareCat']= test_data['Fare'].apply(categorize_fare)"
   ]
  },
  {
   "cell_type": "code",
   "execution_count": 5,
   "metadata": {
    "id": "tGhZwIoEUa1L"
   },
   "outputs": [],
   "source": [
    "#Creating a new variable with the number of family members each passenger has on board\n",
    "data['FamilyCount']=data['Parch']+data['SibSp']+1\n",
    "test_data['FamilyCount']=test_data['Parch']+test_data['SibSp']+1"
   ]
  },
  {
   "cell_type": "code",
   "execution_count": 6,
   "metadata": {
    "id": "RFKsw38H74yM"
   },
   "outputs": [],
   "source": [
    "#Filling missing values in Age with the median\n",
    "data['Age']= data['Age'].fillna(statistics.median(data['Age'].dropna()))\n",
    "test_data['Age']= test_data['Age'].fillna(statistics.median(test_data['Age'].dropna()))\n",
    "#Filling missing values in Fare\n",
    "test_data['Fare']= test_data['Fare'].fillna(statistics.median(test_data['Fare'].dropna()))"
   ]
  },
  {
   "cell_type": "code",
   "execution_count": 7,
   "metadata": {
    "id": "1vtQE5_3yKlm"
   },
   "outputs": [],
   "source": [
    "#Creating 5 categories for Age to have values ranging from 0 to 4\n",
    "def categorize_age(x):\n",
    "    if x <= 16:\n",
    "        return 0\n",
    "    elif x <= 32:\n",
    "        return 1\n",
    "    elif x <= 48:\n",
    "        return 2\n",
    "    elif x <= 64:\n",
    "        return 3\n",
    "    elif x <= 80:\n",
    "        return 4\n",
    "\n",
    "data['AgeCat']=data['Age'].apply(categorize_age)\n",
    "test_data['AgeCat']= test_data['Age'].apply(categorize_age)"
   ]
  },
  {
   "cell_type": "code",
   "execution_count": 8,
   "metadata": {
    "colab": {
     "base_uri": "https://localhost:8080/"
    },
    "id": "lfnEGNvJ-BJz",
    "outputId": "9650e658-64da-4585-b7eb-0ca3230317bc"
   },
   "outputs": [
    {
     "data": {
      "text/plain": [
       "S    644\n",
       "C    168\n",
       "Q     77\n",
       "Name: Embarked, dtype: int64"
      ]
     },
     "execution_count": 8,
     "metadata": {},
     "output_type": "execute_result"
    }
   ],
   "source": [
    "data['Embarked'].value_counts()"
   ]
  },
  {
   "cell_type": "code",
   "execution_count": 9,
   "metadata": {
    "id": "Cp0lnPcn9wt1"
   },
   "outputs": [],
   "source": [
    "#Replacing missing values with most frequent one\n",
    "data['Embarked'] = data['Embarked'].fillna('S')\n",
    "test_data['Embarked'] = test_data['Embarked'].fillna('S')"
   ]
  },
  {
   "cell_type": "code",
   "execution_count": 10,
   "metadata": {
    "id": "zHXfj1Ml0br9"
   },
   "outputs": [],
   "source": [
    "data['Embarked_code'] = data['Embarked'].map( {'Q': 0, 'C': 1, 'S': 2} )\n",
    "test_data['Embarked_code'] = test_data['Embarked'].map( {'Q': 0, 'C': 1, 'S': 2} )"
   ]
  },
  {
   "cell_type": "markdown",
   "metadata": {
    "id": "9RBrbNefUtwB"
   },
   "source": [
    "## **2. KNN model**"
   ]
  },
  {
   "cell_type": "code",
   "execution_count": 11,
   "metadata": {
    "colab": {
     "base_uri": "https://localhost:8080/",
     "height": 932
    },
    "id": "cCFpWAh7XFq6",
    "outputId": "da096d21-ef06-4ad3-ce8d-09dc477dee85"
   },
   "outputs": [
    {
     "data": {
      "text/html": [
       "<div>\n",
       "<style scoped>\n",
       "    .dataframe tbody tr th:only-of-type {\n",
       "        vertical-align: middle;\n",
       "    }\n",
       "\n",
       "    .dataframe tbody tr th {\n",
       "        vertical-align: top;\n",
       "    }\n",
       "\n",
       "    .dataframe thead th {\n",
       "        text-align: right;\n",
       "    }\n",
       "</style>\n",
       "<table border=\"1\" class=\"dataframe\">\n",
       "  <thead>\n",
       "    <tr style=\"text-align: right;\">\n",
       "      <th></th>\n",
       "      <th>PassengerId</th>\n",
       "      <th>Survived</th>\n",
       "      <th>Pclass</th>\n",
       "      <th>Name</th>\n",
       "      <th>Sex</th>\n",
       "      <th>Age</th>\n",
       "      <th>SibSp</th>\n",
       "      <th>Parch</th>\n",
       "      <th>Ticket</th>\n",
       "      <th>Fare</th>\n",
       "      <th>Cabin</th>\n",
       "      <th>Embarked</th>\n",
       "      <th>Sexcode</th>\n",
       "      <th>FareCat</th>\n",
       "      <th>FamilyCount</th>\n",
       "      <th>AgeCat</th>\n",
       "      <th>Embarked_code</th>\n",
       "    </tr>\n",
       "  </thead>\n",
       "  <tbody>\n",
       "    <tr>\n",
       "      <th>0</th>\n",
       "      <td>1</td>\n",
       "      <td>0</td>\n",
       "      <td>3</td>\n",
       "      <td>Braund, Mr. Owen Harris</td>\n",
       "      <td>male</td>\n",
       "      <td>22.0</td>\n",
       "      <td>1</td>\n",
       "      <td>0</td>\n",
       "      <td>A/5 21171</td>\n",
       "      <td>7.2500</td>\n",
       "      <td>NaN</td>\n",
       "      <td>S</td>\n",
       "      <td>0</td>\n",
       "      <td>1</td>\n",
       "      <td>2</td>\n",
       "      <td>1</td>\n",
       "      <td>2</td>\n",
       "    </tr>\n",
       "    <tr>\n",
       "      <th>1</th>\n",
       "      <td>2</td>\n",
       "      <td>1</td>\n",
       "      <td>1</td>\n",
       "      <td>Cumings, Mrs. John Bradley (Florence Briggs Th...</td>\n",
       "      <td>female</td>\n",
       "      <td>38.0</td>\n",
       "      <td>1</td>\n",
       "      <td>0</td>\n",
       "      <td>PC 17599</td>\n",
       "      <td>71.2833</td>\n",
       "      <td>C85</td>\n",
       "      <td>C</td>\n",
       "      <td>1</td>\n",
       "      <td>3</td>\n",
       "      <td>2</td>\n",
       "      <td>2</td>\n",
       "      <td>1</td>\n",
       "    </tr>\n",
       "    <tr>\n",
       "      <th>2</th>\n",
       "      <td>3</td>\n",
       "      <td>1</td>\n",
       "      <td>3</td>\n",
       "      <td>Heikkinen, Miss. Laina</td>\n",
       "      <td>female</td>\n",
       "      <td>26.0</td>\n",
       "      <td>0</td>\n",
       "      <td>0</td>\n",
       "      <td>STON/O2. 3101282</td>\n",
       "      <td>7.9250</td>\n",
       "      <td>NaN</td>\n",
       "      <td>S</td>\n",
       "      <td>1</td>\n",
       "      <td>1</td>\n",
       "      <td>1</td>\n",
       "      <td>1</td>\n",
       "      <td>2</td>\n",
       "    </tr>\n",
       "    <tr>\n",
       "      <th>3</th>\n",
       "      <td>4</td>\n",
       "      <td>1</td>\n",
       "      <td>1</td>\n",
       "      <td>Futrelle, Mrs. Jacques Heath (Lily May Peel)</td>\n",
       "      <td>female</td>\n",
       "      <td>35.0</td>\n",
       "      <td>1</td>\n",
       "      <td>0</td>\n",
       "      <td>113803</td>\n",
       "      <td>53.1000</td>\n",
       "      <td>C123</td>\n",
       "      <td>S</td>\n",
       "      <td>1</td>\n",
       "      <td>3</td>\n",
       "      <td>2</td>\n",
       "      <td>2</td>\n",
       "      <td>2</td>\n",
       "    </tr>\n",
       "    <tr>\n",
       "      <th>4</th>\n",
       "      <td>5</td>\n",
       "      <td>0</td>\n",
       "      <td>3</td>\n",
       "      <td>Allen, Mr. William Henry</td>\n",
       "      <td>male</td>\n",
       "      <td>35.0</td>\n",
       "      <td>0</td>\n",
       "      <td>0</td>\n",
       "      <td>373450</td>\n",
       "      <td>8.0500</td>\n",
       "      <td>NaN</td>\n",
       "      <td>S</td>\n",
       "      <td>0</td>\n",
       "      <td>1</td>\n",
       "      <td>1</td>\n",
       "      <td>2</td>\n",
       "      <td>2</td>\n",
       "    </tr>\n",
       "    <tr>\n",
       "      <th>...</th>\n",
       "      <td>...</td>\n",
       "      <td>...</td>\n",
       "      <td>...</td>\n",
       "      <td>...</td>\n",
       "      <td>...</td>\n",
       "      <td>...</td>\n",
       "      <td>...</td>\n",
       "      <td>...</td>\n",
       "      <td>...</td>\n",
       "      <td>...</td>\n",
       "      <td>...</td>\n",
       "      <td>...</td>\n",
       "      <td>...</td>\n",
       "      <td>...</td>\n",
       "      <td>...</td>\n",
       "      <td>...</td>\n",
       "      <td>...</td>\n",
       "    </tr>\n",
       "    <tr>\n",
       "      <th>886</th>\n",
       "      <td>887</td>\n",
       "      <td>0</td>\n",
       "      <td>2</td>\n",
       "      <td>Montvila, Rev. Juozas</td>\n",
       "      <td>male</td>\n",
       "      <td>27.0</td>\n",
       "      <td>0</td>\n",
       "      <td>0</td>\n",
       "      <td>211536</td>\n",
       "      <td>13.0000</td>\n",
       "      <td>NaN</td>\n",
       "      <td>S</td>\n",
       "      <td>0</td>\n",
       "      <td>1</td>\n",
       "      <td>1</td>\n",
       "      <td>1</td>\n",
       "      <td>2</td>\n",
       "    </tr>\n",
       "    <tr>\n",
       "      <th>887</th>\n",
       "      <td>888</td>\n",
       "      <td>1</td>\n",
       "      <td>1</td>\n",
       "      <td>Graham, Miss. Margaret Edith</td>\n",
       "      <td>female</td>\n",
       "      <td>19.0</td>\n",
       "      <td>0</td>\n",
       "      <td>0</td>\n",
       "      <td>112053</td>\n",
       "      <td>30.0000</td>\n",
       "      <td>B42</td>\n",
       "      <td>S</td>\n",
       "      <td>1</td>\n",
       "      <td>3</td>\n",
       "      <td>1</td>\n",
       "      <td>1</td>\n",
       "      <td>2</td>\n",
       "    </tr>\n",
       "    <tr>\n",
       "      <th>888</th>\n",
       "      <td>889</td>\n",
       "      <td>0</td>\n",
       "      <td>3</td>\n",
       "      <td>Johnston, Miss. Catherine Helen \"Carrie\"</td>\n",
       "      <td>female</td>\n",
       "      <td>28.0</td>\n",
       "      <td>1</td>\n",
       "      <td>2</td>\n",
       "      <td>W./C. 6607</td>\n",
       "      <td>23.4500</td>\n",
       "      <td>NaN</td>\n",
       "      <td>S</td>\n",
       "      <td>1</td>\n",
       "      <td>2</td>\n",
       "      <td>4</td>\n",
       "      <td>1</td>\n",
       "      <td>2</td>\n",
       "    </tr>\n",
       "    <tr>\n",
       "      <th>889</th>\n",
       "      <td>890</td>\n",
       "      <td>1</td>\n",
       "      <td>1</td>\n",
       "      <td>Behr, Mr. Karl Howell</td>\n",
       "      <td>male</td>\n",
       "      <td>26.0</td>\n",
       "      <td>0</td>\n",
       "      <td>0</td>\n",
       "      <td>111369</td>\n",
       "      <td>30.0000</td>\n",
       "      <td>C148</td>\n",
       "      <td>C</td>\n",
       "      <td>0</td>\n",
       "      <td>3</td>\n",
       "      <td>1</td>\n",
       "      <td>1</td>\n",
       "      <td>1</td>\n",
       "    </tr>\n",
       "    <tr>\n",
       "      <th>890</th>\n",
       "      <td>891</td>\n",
       "      <td>0</td>\n",
       "      <td>3</td>\n",
       "      <td>Dooley, Mr. Patrick</td>\n",
       "      <td>male</td>\n",
       "      <td>32.0</td>\n",
       "      <td>0</td>\n",
       "      <td>0</td>\n",
       "      <td>370376</td>\n",
       "      <td>7.7500</td>\n",
       "      <td>NaN</td>\n",
       "      <td>Q</td>\n",
       "      <td>0</td>\n",
       "      <td>1</td>\n",
       "      <td>1</td>\n",
       "      <td>1</td>\n",
       "      <td>0</td>\n",
       "    </tr>\n",
       "  </tbody>\n",
       "</table>\n",
       "<p>891 rows × 17 columns</p>\n",
       "</div>"
      ],
      "text/plain": [
       "     PassengerId  Survived  Pclass  \\\n",
       "0              1         0       3   \n",
       "1              2         1       1   \n",
       "2              3         1       3   \n",
       "3              4         1       1   \n",
       "4              5         0       3   \n",
       "..           ...       ...     ...   \n",
       "886          887         0       2   \n",
       "887          888         1       1   \n",
       "888          889         0       3   \n",
       "889          890         1       1   \n",
       "890          891         0       3   \n",
       "\n",
       "                                                  Name     Sex   Age  SibSp  \\\n",
       "0                              Braund, Mr. Owen Harris    male  22.0      1   \n",
       "1    Cumings, Mrs. John Bradley (Florence Briggs Th...  female  38.0      1   \n",
       "2                               Heikkinen, Miss. Laina  female  26.0      0   \n",
       "3         Futrelle, Mrs. Jacques Heath (Lily May Peel)  female  35.0      1   \n",
       "4                             Allen, Mr. William Henry    male  35.0      0   \n",
       "..                                                 ...     ...   ...    ...   \n",
       "886                              Montvila, Rev. Juozas    male  27.0      0   \n",
       "887                       Graham, Miss. Margaret Edith  female  19.0      0   \n",
       "888           Johnston, Miss. Catherine Helen \"Carrie\"  female  28.0      1   \n",
       "889                              Behr, Mr. Karl Howell    male  26.0      0   \n",
       "890                                Dooley, Mr. Patrick    male  32.0      0   \n",
       "\n",
       "     Parch            Ticket     Fare Cabin Embarked  Sexcode  FareCat  \\\n",
       "0        0         A/5 21171   7.2500   NaN        S        0        1   \n",
       "1        0          PC 17599  71.2833   C85        C        1        3   \n",
       "2        0  STON/O2. 3101282   7.9250   NaN        S        1        1   \n",
       "3        0            113803  53.1000  C123        S        1        3   \n",
       "4        0            373450   8.0500   NaN        S        0        1   \n",
       "..     ...               ...      ...   ...      ...      ...      ...   \n",
       "886      0            211536  13.0000   NaN        S        0        1   \n",
       "887      0            112053  30.0000   B42        S        1        3   \n",
       "888      2        W./C. 6607  23.4500   NaN        S        1        2   \n",
       "889      0            111369  30.0000  C148        C        0        3   \n",
       "890      0            370376   7.7500   NaN        Q        0        1   \n",
       "\n",
       "     FamilyCount  AgeCat  Embarked_code  \n",
       "0              2       1              2  \n",
       "1              2       2              1  \n",
       "2              1       1              2  \n",
       "3              2       2              2  \n",
       "4              1       2              2  \n",
       "..           ...     ...            ...  \n",
       "886            1       1              2  \n",
       "887            1       1              2  \n",
       "888            4       1              2  \n",
       "889            1       1              1  \n",
       "890            1       1              0  \n",
       "\n",
       "[891 rows x 17 columns]"
      ]
     },
     "execution_count": 11,
     "metadata": {},
     "output_type": "execute_result"
    }
   ],
   "source": [
    "data"
   ]
  },
  {
   "cell_type": "code",
   "execution_count": 12,
   "metadata": {
    "colab": {
     "base_uri": "https://localhost:8080/",
     "height": 419
    },
    "id": "bpUsgZ_DW5lQ",
    "outputId": "d01dcb9f-6685-4484-d548-1c63f79318e7"
   },
   "outputs": [
    {
     "data": {
      "text/html": [
       "<div>\n",
       "<style scoped>\n",
       "    .dataframe tbody tr th:only-of-type {\n",
       "        vertical-align: middle;\n",
       "    }\n",
       "\n",
       "    .dataframe tbody tr th {\n",
       "        vertical-align: top;\n",
       "    }\n",
       "\n",
       "    .dataframe thead th {\n",
       "        text-align: right;\n",
       "    }\n",
       "</style>\n",
       "<table border=\"1\" class=\"dataframe\">\n",
       "  <thead>\n",
       "    <tr style=\"text-align: right;\">\n",
       "      <th></th>\n",
       "      <th>Pclass</th>\n",
       "      <th>SibSp</th>\n",
       "      <th>Parch</th>\n",
       "      <th>Fare</th>\n",
       "      <th>Sexcode</th>\n",
       "      <th>FareCat</th>\n",
       "      <th>FamilyCount</th>\n",
       "      <th>AgeCat</th>\n",
       "      <th>Embarked_code</th>\n",
       "    </tr>\n",
       "  </thead>\n",
       "  <tbody>\n",
       "    <tr>\n",
       "      <th>0</th>\n",
       "      <td>3</td>\n",
       "      <td>1</td>\n",
       "      <td>0</td>\n",
       "      <td>7.2500</td>\n",
       "      <td>0</td>\n",
       "      <td>1</td>\n",
       "      <td>2</td>\n",
       "      <td>1</td>\n",
       "      <td>2</td>\n",
       "    </tr>\n",
       "    <tr>\n",
       "      <th>1</th>\n",
       "      <td>1</td>\n",
       "      <td>1</td>\n",
       "      <td>0</td>\n",
       "      <td>71.2833</td>\n",
       "      <td>1</td>\n",
       "      <td>3</td>\n",
       "      <td>2</td>\n",
       "      <td>2</td>\n",
       "      <td>1</td>\n",
       "    </tr>\n",
       "    <tr>\n",
       "      <th>2</th>\n",
       "      <td>3</td>\n",
       "      <td>0</td>\n",
       "      <td>0</td>\n",
       "      <td>7.9250</td>\n",
       "      <td>1</td>\n",
       "      <td>1</td>\n",
       "      <td>1</td>\n",
       "      <td>1</td>\n",
       "      <td>2</td>\n",
       "    </tr>\n",
       "    <tr>\n",
       "      <th>3</th>\n",
       "      <td>1</td>\n",
       "      <td>1</td>\n",
       "      <td>0</td>\n",
       "      <td>53.1000</td>\n",
       "      <td>1</td>\n",
       "      <td>3</td>\n",
       "      <td>2</td>\n",
       "      <td>2</td>\n",
       "      <td>2</td>\n",
       "    </tr>\n",
       "    <tr>\n",
       "      <th>4</th>\n",
       "      <td>3</td>\n",
       "      <td>0</td>\n",
       "      <td>0</td>\n",
       "      <td>8.0500</td>\n",
       "      <td>0</td>\n",
       "      <td>1</td>\n",
       "      <td>1</td>\n",
       "      <td>2</td>\n",
       "      <td>2</td>\n",
       "    </tr>\n",
       "    <tr>\n",
       "      <th>...</th>\n",
       "      <td>...</td>\n",
       "      <td>...</td>\n",
       "      <td>...</td>\n",
       "      <td>...</td>\n",
       "      <td>...</td>\n",
       "      <td>...</td>\n",
       "      <td>...</td>\n",
       "      <td>...</td>\n",
       "      <td>...</td>\n",
       "    </tr>\n",
       "    <tr>\n",
       "      <th>886</th>\n",
       "      <td>2</td>\n",
       "      <td>0</td>\n",
       "      <td>0</td>\n",
       "      <td>13.0000</td>\n",
       "      <td>0</td>\n",
       "      <td>1</td>\n",
       "      <td>1</td>\n",
       "      <td>1</td>\n",
       "      <td>2</td>\n",
       "    </tr>\n",
       "    <tr>\n",
       "      <th>887</th>\n",
       "      <td>1</td>\n",
       "      <td>0</td>\n",
       "      <td>0</td>\n",
       "      <td>30.0000</td>\n",
       "      <td>1</td>\n",
       "      <td>3</td>\n",
       "      <td>1</td>\n",
       "      <td>1</td>\n",
       "      <td>2</td>\n",
       "    </tr>\n",
       "    <tr>\n",
       "      <th>888</th>\n",
       "      <td>3</td>\n",
       "      <td>1</td>\n",
       "      <td>2</td>\n",
       "      <td>23.4500</td>\n",
       "      <td>1</td>\n",
       "      <td>2</td>\n",
       "      <td>4</td>\n",
       "      <td>1</td>\n",
       "      <td>2</td>\n",
       "    </tr>\n",
       "    <tr>\n",
       "      <th>889</th>\n",
       "      <td>1</td>\n",
       "      <td>0</td>\n",
       "      <td>0</td>\n",
       "      <td>30.0000</td>\n",
       "      <td>0</td>\n",
       "      <td>3</td>\n",
       "      <td>1</td>\n",
       "      <td>1</td>\n",
       "      <td>1</td>\n",
       "    </tr>\n",
       "    <tr>\n",
       "      <th>890</th>\n",
       "      <td>3</td>\n",
       "      <td>0</td>\n",
       "      <td>0</td>\n",
       "      <td>7.7500</td>\n",
       "      <td>0</td>\n",
       "      <td>1</td>\n",
       "      <td>1</td>\n",
       "      <td>1</td>\n",
       "      <td>0</td>\n",
       "    </tr>\n",
       "  </tbody>\n",
       "</table>\n",
       "<p>891 rows × 9 columns</p>\n",
       "</div>"
      ],
      "text/plain": [
       "     Pclass  SibSp  Parch     Fare  Sexcode  FareCat  FamilyCount  AgeCat  \\\n",
       "0         3      1      0   7.2500        0        1            2       1   \n",
       "1         1      1      0  71.2833        1        3            2       2   \n",
       "2         3      0      0   7.9250        1        1            1       1   \n",
       "3         1      1      0  53.1000        1        3            2       2   \n",
       "4         3      0      0   8.0500        0        1            1       2   \n",
       "..      ...    ...    ...      ...      ...      ...          ...     ...   \n",
       "886       2      0      0  13.0000        0        1            1       1   \n",
       "887       1      0      0  30.0000        1        3            1       1   \n",
       "888       3      1      2  23.4500        1        2            4       1   \n",
       "889       1      0      0  30.0000        0        3            1       1   \n",
       "890       3      0      0   7.7500        0        1            1       1   \n",
       "\n",
       "     Embarked_code  \n",
       "0                2  \n",
       "1                1  \n",
       "2                2  \n",
       "3                2  \n",
       "4                2  \n",
       "..             ...  \n",
       "886              2  \n",
       "887              2  \n",
       "888              2  \n",
       "889              1  \n",
       "890              0  \n",
       "\n",
       "[891 rows x 9 columns]"
      ]
     },
     "execution_count": 12,
     "metadata": {},
     "output_type": "execute_result"
    }
   ],
   "source": [
    "X = data.drop(columns = ['Survived', 'Name', 'Sex', 'Ticket', 'Cabin', 'Embarked', 'Age', \"PassengerId\"])\n",
    "y = data.Survived\n",
    "X"
   ]
  },
  {
   "cell_type": "code",
   "execution_count": 13,
   "metadata": {
    "colab": {
     "base_uri": "https://localhost:8080/"
    },
    "id": "QT6jz03wUxau",
    "outputId": "dec8a716-5c5d-4c0f-c3b0-6f687f11128a"
   },
   "outputs": [
    {
     "ename": "NameError",
     "evalue": "name 'X_train' is not defined",
     "output_type": "error",
     "traceback": [
      "\u001b[1;31m---------------------------------------------------------------------------\u001b[0m",
      "\u001b[1;31mNameError\u001b[0m                                 Traceback (most recent call last)",
      "\u001b[1;32m~\\AppData\\Local\\Temp/ipykernel_15420/3172694265.py\u001b[0m in \u001b[0;36m<module>\u001b[1;34m\u001b[0m\n\u001b[0;32m      1\u001b[0m \u001b[1;31m# Instanciate the model\u001b[0m\u001b[1;33m\u001b[0m\u001b[1;33m\u001b[0m\u001b[1;33m\u001b[0m\u001b[0m\n\u001b[0;32m      2\u001b[0m \u001b[0mknn_model\u001b[0m \u001b[1;33m=\u001b[0m \u001b[0mKNeighborsRegressor\u001b[0m\u001b[1;33m(\u001b[0m\u001b[1;33m)\u001b[0m\u001b[1;33m\u001b[0m\u001b[1;33m\u001b[0m\u001b[0m\n\u001b[1;32m----> 3\u001b[1;33m \u001b[0mknn_model\u001b[0m\u001b[1;33m.\u001b[0m\u001b[0mfit\u001b[0m\u001b[1;33m(\u001b[0m\u001b[0mX_train\u001b[0m\u001b[1;33m,\u001b[0m \u001b[0my_train\u001b[0m\u001b[1;33m)\u001b[0m\u001b[1;33m;\u001b[0m\u001b[1;33m\u001b[0m\u001b[1;33m\u001b[0m\u001b[0m\n\u001b[0m\u001b[0;32m      4\u001b[0m \u001b[1;33m\u001b[0m\u001b[0m\n\u001b[0;32m      5\u001b[0m \u001b[1;31m# Train the model on the scaled Training data\u001b[0m\u001b[1;33m\u001b[0m\u001b[1;33m\u001b[0m\u001b[1;33m\u001b[0m\u001b[0m\n",
      "\u001b[1;31mNameError\u001b[0m: name 'X_train' is not defined"
     ]
    }
   ],
   "source": [
    "# Instanciate the model\n",
    "knn_model = KNeighborsRegressor()\n",
    "knn_model.fit(X_train, y_train);\n",
    "\n",
    "# Train the model on the scaled Training data\n",
    "cv_results = cross_validate(knn_model, X,y)\n",
    "\n",
    "base_knn_score = cv_results['test_score'].mean()\n",
    "\n",
    "base_knn_score"
   ]
  },
  {
   "cell_type": "code",
   "execution_count": null,
   "metadata": {
    "colab": {
     "base_uri": "https://localhost:8080/"
    },
    "id": "8Jj3b6P6Wil4",
    "outputId": "edd62902-6394-4c4f-f47a-3ec1e61cf06b"
   },
   "outputs": [],
   "source": [
    "scaler = MinMaxScaler()\n",
    "\n",
    "X_rescaled = scaler.fit_transform(X)\n",
    "\n",
    "cv_results = cross_validate(knn_model, X_rescaled,y)\n",
    "\n",
    "rescaled_score = cv_results['test_score'].mean()\n",
    "\n",
    "rescaled_score"
   ]
  },
  {
   "cell_type": "code",
   "execution_count": null,
   "metadata": {
    "id": "7vYJBor_4y-n"
   },
   "outputs": [],
   "source": [
    "score = []\n",
    "neighbours = []\n",
    "\n",
    "for k in range(1,25):\n",
    "    \n",
    "    # Instanciate the model\n",
    "    knn_model = KNeighborsRegressor(n_neighbors = k)\n",
    "\n",
    "    # Train the model on the scaled Training data\n",
    "    cv_results = cross_validate(knn_model, X_rescaled,y)\n",
    "\n",
    "    # Append the score and k\n",
    "    score.append(cv_results['test_score'].mean())\n",
    "    neighbours.append(k)"
   ]
  },
  {
   "cell_type": "code",
   "execution_count": null,
   "metadata": {
    "colab": {
     "base_uri": "https://localhost:8080/",
     "height": 425
    },
    "id": "JNr-Pdf943lV",
    "outputId": "19815286-f2a0-4a78-febb-2d22a5300ad0"
   },
   "outputs": [],
   "source": [
    "plt.figure(figsize=(10,6))\n",
    "plt.plot(range(1,25),score,color='blue', linestyle='dashed', marker='o',markerfacecolor='red', markersize=10)\n",
    "plt.title('Score vs. $k$ Neighbors')\n",
    "plt.xlabel('$k$')\n",
    "plt.ylabel('R2 score')"
   ]
  },
  {
   "cell_type": "code",
   "execution_count": null,
   "metadata": {
    "id": "yMRxCVPV5L_8"
   },
   "outputs": [],
   "source": [
    "# The best k seems to be 24\n",
    "best_k = 5"
   ]
  },
  {
   "cell_type": "code",
   "execution_count": null,
   "metadata": {
    "colab": {
     "base_uri": "https://localhost:8080/",
     "height": 439
    },
    "id": "Rcc0kIxD5Y5M",
    "outputId": "1ff919c7-1b13-4a3d-e30a-65b9ed124878"
   },
   "outputs": [],
   "source": [
    "# Get train scores, train sizes, and validation scores using `learning_curve`, r2 score\n",
    "train_sizes, train_scores, test_scores = learning_curve(estimator = KNeighborsRegressor(n_neighbors=best_k),\n",
    "                                                              X = X_rescaled, \n",
    "                                                              y = y, \n",
    "                                                              train_sizes = [50,100,250,500,750], \n",
    "                                                              cv = 10,\n",
    "                                                              scoring = 'r2')\n",
    "\n",
    "# Take the mean of cross-validated train scores and validation scores\n",
    "train_scores_mean = np.mean(train_scores, axis=1)\n",
    "test_scores_mean = np.mean(test_scores, axis=1)\n",
    "\n",
    "# Plot the learning curves!\n",
    "plt.plot(train_sizes, train_scores_mean, label = 'Training score')\n",
    "plt.plot(train_sizes, test_scores_mean, label = 'Test score')\n",
    "plt.ylabel('r2 score', fontsize = 14)\n",
    "plt.xlabel('Training set size', fontsize = 14)\n",
    "plt.title('Learning curves', fontsize = 18, y = 1.03)\n",
    "plt.legend()"
   ]
  },
  {
   "cell_type": "code",
   "execution_count": null,
   "metadata": {
    "colab": {
     "base_uri": "https://localhost:8080/"
    },
    "id": "TgOqtRG3iP2c",
    "outputId": "7c0a04ac-580a-45e6-d6fb-901faed8b5f4"
   },
   "outputs": [],
   "source": [
    "train_scores_mean"
   ]
  },
  {
   "cell_type": "code",
   "execution_count": null,
   "metadata": {
    "colab": {
     "base_uri": "https://localhost:8080/"
    },
    "id": "VreokLS-5ZYO",
    "outputId": "48edbc45-7c25-4e8a-9bee-2cca5485e2f1"
   },
   "outputs": [],
   "source": [
    "cv_results = cross_validate(KNeighborsRegressor(n_neighbors=best_k), X_rescaled,y, scoring = 'neg_mean_absolute_error')\n",
    "\n",
    "cat_error = cv_results['test_score'].mean()\n",
    "cat_error"
   ]
  },
  {
   "cell_type": "markdown",
   "metadata": {
    "id": "cM_Uvh3j3mZ1"
   },
   "source": [
    "# **3. LDA model**"
   ]
  },
  {
   "cell_type": "code",
   "execution_count": null,
   "metadata": {
    "id": "PHSB8sq97P-A"
   },
   "outputs": [],
   "source": [
    "X = data[[\"Pclass\",\"SibSp\",\"Parch\",\"Fare\",\"Sexcode\",\"FareCat\",\"FamilyCount\",\"AgeCat\",\"Embarked_code\"]]\n",
    "y = data.Survived\n",
    "\n",
    "X_train, X_test, y_train, y_test = train_test_split(X, y, test_size=0.2, random_state=0)"
   ]
  },
  {
   "cell_type": "code",
   "execution_count": null,
   "metadata": {
    "id": "KX0ORzn835yn"
   },
   "outputs": [],
   "source": [
    "lda_model = LDA()\n",
    "lda_model.fit(X_train, y_train);"
   ]
  },
  {
   "cell_type": "code",
   "execution_count": null,
   "metadata": {
    "colab": {
     "base_uri": "https://localhost:8080/"
    },
    "id": "aDgDoYGs38CA",
    "outputId": "e4c06c6c-9ac3-404a-ef88-be2cb253fed0"
   },
   "outputs": [],
   "source": [
    "# Prediction on the training set to see model accuracy\n",
    "y_predicted = lda_model.predict(X_train)\n",
    "fails = sum((y_train - y_predicted)!=0)\n",
    "corrects = sum((y_train - y_predicted)==0)\n",
    "acc = 1 - fails/corrects\n",
    "print(\"Accuracy with the training set:\",acc)\n",
    "print(\"R2 score with the training set:\",r2_score(y_train, y_predicted))\n",
    "\n",
    "# Prediction on the test set to see model accuracy\n",
    "y_predicted = lda_model.predict(X_test)\n",
    "fails = sum((y_test - y_predicted)!=0)\n",
    "corrects = sum((y_test - y_predicted)==0)\n",
    "acc = 1 - fails/corrects\n",
    "print(\"Accuracy with the test set:\",acc)\n",
    "print(\"R2 score with the test set:\",r2_score(y_test, y_predicted))"
   ]
  },
  {
   "cell_type": "code",
   "execution_count": null,
   "metadata": {
    "colab": {
     "base_uri": "https://localhost:8080/",
     "height": 439
    },
    "id": "dDh00-locJ7T",
    "outputId": "4392c42d-fbc3-447c-a66a-cd88b0074cf6"
   },
   "outputs": [],
   "source": [
    "# Get train scores, train sizes, and validation scores using `learning_curve`, r2 score\n",
    "scaler = MinMaxScaler()\n",
    "X_rescaled = scaler.fit_transform(X)\n",
    "\n",
    "train_sizes, train_scores, test_scores = learning_curve(estimator = lda_model,\n",
    "                                                              X = X_rescaled, \n",
    "                                                              y = y, \n",
    "                                                              train_sizes = [50,100,250,500,750], \n",
    "                                                              cv = 10,\n",
    "                                                              scoring = 'r2')\n",
    "\n",
    "# Take the mean of cross-validated train scores and validation scores\n",
    "train_scores_mean = np.mean(train_scores, axis=1)\n",
    "test_scores_mean = np.mean(test_scores, axis=1)\n",
    "\n",
    "# Plot the learning curves!\n",
    "plt.plot(train_sizes, train_scores_mean, label = 'Training score')\n",
    "plt.plot(train_sizes, test_scores_mean, label = 'Test score')\n",
    "plt.ylabel('r2 score', fontsize = 14)\n",
    "plt.xlabel('Training set size', fontsize = 14)\n",
    "plt.title('Learning curves with all variables', fontsize = 18, y = 1.03)\n",
    "plt.legend()"
   ]
  },
  {
   "cell_type": "code",
   "execution_count": null,
   "metadata": {
    "colab": {
     "base_uri": "https://localhost:8080/",
     "height": 899
    },
    "id": "9h1O7wJZik6W",
    "outputId": "c0cfe73c-3f0b-4466-db7d-39f4cbfea4e8"
   },
   "outputs": [],
   "source": [
    "plt.rcParams['figure.figsize'] = (15, 15)\n",
    "plt.tight_layout(pad = 1) # adjust the subplots to fit in to the figure area.\n",
    "plt.subplots_adjust(hspace = 0.5, wspace = 0.3) # adjust the amount of width and height reserved for space between subplots.\n",
    "\n",
    "all_variables = [\"Pclass\",\"SibSp\",\"Parch\",\"Fare\",\"Sexcode\",\"FareCat\",\"FamilyCount\",\"AgeCat\",\"Embarked_code\"]\n",
    "y = data.Survived\n",
    "for i in range(len(all_variables)):\n",
    "  without = all_variables[i]\n",
    "  using = all_variables.copy()\n",
    "  using.remove(without)\n",
    "\n",
    "  X = data[using]\n",
    "  scaler = MinMaxScaler()\n",
    "  X_rescaled = scaler.fit_transform(X)\n",
    "  train_sizes, train_scores, test_scores = learning_curve(estimator = lda_model,\n",
    "                                                                X = X_rescaled, \n",
    "                                                                y = y, \n",
    "                                                                train_sizes = [50,100,250,500,750], \n",
    "                                                                cv = 10,\n",
    "                                                                scoring = 'r2')\n",
    "\n",
    "  # Take the mean of cross-validated train scores and validation scores\n",
    "  train_scores_mean = np.mean(train_scores, axis=1)\n",
    "  test_scores_mean = np.mean(test_scores, axis=1)\n",
    "\n",
    "  # Plot the learning curves!\n",
    "  plt.subplot(3, 3, i+1)\n",
    "  plt.plot(train_sizes, train_scores_mean, label = 'Training score')\n",
    "  plt.plot(train_sizes, test_scores_mean, label = 'Test score')\n",
    "  plt.ylabel('r2 score')\n",
    "  plt.xlabel('Training set size')\n",
    "  plt.title('Learning curves without '+ without,  y = 1.03)\n",
    "  plt.legend()\n",
    "\n",
    "plt.rcParams['figure.figsize'] = (10, 6)"
   ]
  },
  {
   "cell_type": "code",
   "execution_count": null,
   "metadata": {
    "colab": {
     "base_uri": "https://localhost:8080/"
    },
    "id": "AE4feGpxk1te",
    "outputId": "e8ab50a7-e54f-49f0-b9d2-5a8ab5b20936"
   },
   "outputs": [],
   "source": [
    "result = permutation_importance(lda_model, X_test, lda_model.predict(X_test), n_repeats=10, random_state=0)\n",
    "result"
   ]
  },
  {
   "cell_type": "code",
   "execution_count": null,
   "metadata": {
    "id": "oImMDYaOnZJB"
   },
   "outputs": [],
   "source": [
    "features = [\"Pclass\",\"SibSp\",\"Parch\",\"Fare\",\"Sexcode\",\"FareCat\",\"FamilyCount\",\"AgeCat\",\"Embarked_code\"]"
   ]
  },
  {
   "cell_type": "code",
   "execution_count": null,
   "metadata": {
    "id": "qSnHchNFnru6"
   },
   "outputs": [],
   "source": [
    "indices = np.argsort(result.importances_mean)[::-1]\n",
    "indices\n",
    "ordered_features = []\n",
    "for i in indices:\n",
    "  ordered_features.append(features[i])"
   ]
  },
  {
   "cell_type": "code",
   "execution_count": null,
   "metadata": {
    "colab": {
     "base_uri": "https://localhost:8080/"
    },
    "id": "kalZJo9OoJiG",
    "outputId": "61e22d1b-4ab9-426d-df85-31d88820e6af"
   },
   "outputs": [],
   "source": [
    "result.importances_mean[indices]"
   ]
  },
  {
   "cell_type": "code",
   "execution_count": null,
   "metadata": {
    "colab": {
     "base_uri": "https://localhost:8080/"
    },
    "id": "huYsH-sHoair",
    "outputId": "18e19422-4d72-48e4-c741-bcee96642261"
   },
   "outputs": [],
   "source": [
    "result.importances_std[indices]"
   ]
  },
  {
   "cell_type": "code",
   "execution_count": null,
   "metadata": {
    "colab": {
     "base_uri": "https://localhost:8080/",
     "height": 391
    },
    "id": "zXAkrl6HoewH",
    "outputId": "796bbec5-5af2-4d10-cc12-9bd1c40a016a"
   },
   "outputs": [],
   "source": [
    "plt.figure()\n",
    "plt.title(\"Feature importance\")\n",
    "plt.bar(ordered_features, result.importances_mean[indices],\n",
    "        color=\"r\", yerr=result.importances_std[indices], align=\"center\")\n",
    "#plt.xticks(range(X.shape[1]), indices)\n",
    "#plt.xlim([-1, X.shape[1]])\n",
    "plt.show()"
   ]
  },
  {
   "cell_type": "code",
   "execution_count": null,
   "metadata": {
    "id": "7fkr1vVioncs"
   },
   "outputs": [],
   "source": []
  },
  {
   "cell_type": "markdown",
   "metadata": {
    "id": "pMGEuW7s5Hzy"
   },
   "source": [
    "# **4. Logistic Regression**"
   ]
  },
  {
   "cell_type": "code",
   "execution_count": null,
   "metadata": {
    "id": "5gRPW4fV5XEg"
   },
   "outputs": [],
   "source": [
    "X = data[[\"Pclass\",\"SibSp\",\"Parch\",\"Fare\",\"Sexcode\",\"FareCat\",\"FamilyCount\",\"AgeCat\",\"Embarked_code\"]]\n",
    "y = data.Survived\n",
    "\n",
    "X_train, X_test, y_train, y_test = train_test_split(X, y, test_size=0.2, random_state=0)"
   ]
  },
  {
   "cell_type": "code",
   "execution_count": null,
   "metadata": {
    "colab": {
     "base_uri": "https://localhost:8080/"
    },
    "id": "dmg-eouh5fuE",
    "outputId": "db221be9-2d26-423e-94c9-d41247f1e258"
   },
   "outputs": [],
   "source": [
    "reg_model = LogisticRegression(random_state=0, max_iter=4000)\n",
    "reg_model.fit(X_train, y_train)"
   ]
  },
  {
   "cell_type": "code",
   "execution_count": null,
   "metadata": {
    "colab": {
     "base_uri": "https://localhost:8080/"
    },
    "id": "f9YiBDEQ5yHl",
    "outputId": "513d0369-2c99-4ae9-bf3d-34be35620791"
   },
   "outputs": [],
   "source": [
    "reg_model.score(X_train, y_train)"
   ]
  },
  {
   "cell_type": "code",
   "execution_count": null,
   "metadata": {
    "colab": {
     "base_uri": "https://localhost:8080/"
    },
    "id": "Kym7DO3y6P2c",
    "outputId": "873fc04d-1069-4794-f7f9-00c6ae2107e2"
   },
   "outputs": [],
   "source": [
    "# Prediction on the training set to see model accuracy\n",
    "y_predicted = reg_model.predict(X_train)\n",
    "fails = sum((y_train - y_predicted)!=0)\n",
    "corrects = sum((y_train - y_predicted)==0)\n",
    "acc = 1 - fails/corrects\n",
    "print(\"Accuracy with the training set:\",acc)\n",
    "print(\"R2 score with the training set:\",r2_score(y_train, y_predicted))\n",
    "\n",
    "# Prediction on the test set to see model accuracy\n",
    "y_predicted = reg_model.predict(X_test)\n",
    "fails = sum((y_test - y_predicted)!=0)\n",
    "corrects = sum((y_test - y_predicted)==0)\n",
    "acc = 1 - fails/corrects\n",
    "print(\"Accuracy with the test set:\",acc)\n",
    "print(\"R2 score with the test set:\",r2_score(y_test, y_predicted))"
   ]
  },
  {
   "cell_type": "code",
   "execution_count": null,
   "metadata": {
    "colab": {
     "base_uri": "https://localhost:8080/",
     "height": 327
    },
    "id": "5MieEFF__Ku8",
    "outputId": "ba026ead-8a69-4392-8864-18e702d6b817"
   },
   "outputs": [],
   "source": [
    "# Get train scores, train sizes, and validation scores using `learning_curve`, r2 score\n",
    "scaler = MinMaxScaler()\n",
    "X_rescaled = scaler.fit_transform(X)\n",
    "\n",
    "train_sizes, train_scores, test_scores = learning_curve(estimator = reg_model,\n",
    "                                                              X = X_rescaled, \n",
    "                                                              y = y, \n",
    "                                                              train_sizes = [50,100,250,500,750], \n",
    "                                                              cv = 10,\n",
    "                                                              scoring = 'r2')\n",
    "\n",
    "# Take the mean of cross-validated train scores and validation scores\n",
    "train_scores_mean = np.mean(train_scores, axis=1)\n",
    "test_scores_mean = np.mean(test_scores, axis=1)\n",
    "\n",
    "# Plot the learning curves!\n",
    "plt.plot(train_sizes, train_scores_mean, label = 'Training score')\n",
    "plt.plot(train_sizes, test_scores_mean, label = 'Test score')\n",
    "plt.ylabel('r2 score', fontsize = 14)\n",
    "plt.xlabel('Training set size', fontsize = 14)\n",
    "plt.title('Learning curves with all variables', fontsize = 18, y = 1.03)\n",
    "plt.legend()"
   ]
  },
  {
   "cell_type": "markdown",
   "metadata": {
    "id": "ZDfvxEsAuZFF"
   },
   "source": [
    "### **Model comparison**"
   ]
  },
  {
   "cell_type": "code",
   "execution_count": null,
   "metadata": {
    "id": "b-u5PiaOvj5s"
   },
   "outputs": [],
   "source": [
    "X_train = data[[\"Pclass\",\"SibSp\",\"Parch\",\"Fare\",\"Sexcode\",\"FareCat\",\"FamilyCount\",\"AgeCat\",\"Embarked_code\"]]\n",
    "y_train = data.Survived\n",
    "knn_model.fit(X_train, y_train);\n",
    "lda_model.fit(X_train, y_train);\n",
    "reg_model.fit(X_train, y_train); "
   ]
  },
  {
   "cell_type": "code",
   "execution_count": null,
   "metadata": {
    "id": "xVeZFSlbue2M"
   },
   "outputs": [],
   "source": [
    "kaggle_test = test_data[[\"Pclass\",\"SibSp\",\"Parch\",\"Fare\",\"Sexcode\",\"FareCat\",\"FamilyCount\",\"AgeCat\",\"Embarked_code\"]]\n",
    "y_pred_KNN = knn_model.predict(kaggle_test)\n",
    "y_pred_LDA = lda_model.predict(kaggle_test)\n",
    "y_pred_REG = reg_model.predict(kaggle_test)\n",
    "#is_NaN = kaggle_test.isnull()\n",
    "#row_has_NaN = is_NaN.any(axis=1)\n",
    "#rows_with_NaN = kaggle_test[row_has_NaN]\n",
    "#rows_with_NaN"
   ]
  },
  {
   "cell_type": "code",
   "execution_count": null,
   "metadata": {
    "id": "9nXUBYxCu0br"
   },
   "outputs": [],
   "source": [
    "#print(\"R² of KNN: \", r2_score(y_test, y_pred_KNN))\n",
    "#print(\"R² of LDA: \", r2_score(y_test, y_pred_LDA))\n",
    "#print(\"R² of REG: \", r2_score(y_test, y_pred_LDA))"
   ]
  },
  {
   "cell_type": "code",
   "execution_count": null,
   "metadata": {
    "id": "XX6ontnpwAi2"
   },
   "outputs": [],
   "source": [
    "class_y_pred_KNN = [round(x) for x in y_pred_KNN]"
   ]
  },
  {
   "cell_type": "code",
   "execution_count": null,
   "metadata": {
    "id": "7YlQ2k4owjfn"
   },
   "outputs": [],
   "source": [
    "y_pred_REG_Survived = pd.Series(y_pred_REG)\n",
    "y_pred_LDA_Survived = pd.Series(y_pred_LDA)\n",
    "y_pred_KNN_Survived = pd.Series(class_y_pred_KNN)\n",
    "pred_Id = test_data[\"PassengerId\"]\n",
    "\n",
    "prediction_df_KNN = pd.DataFrame({\"PassengerId\":pred_Id,\"Survived\":class_y_pred_KNN})\n",
    "prediction_df_LDA = pd.DataFrame({\"PassengerId\":pred_Id,\"Survived\":y_pred_LDA_Survived})\n",
    "prediction_df_REG = pd.DataFrame({\"PassengerId\":pred_Id,\"Survived\":y_pred_REG_Survived})\n",
    "prediction_df_KNN#.to_csv(\"knn_prediction.csv\",index=False)\n",
    "prediction_df_LDA#.to_csv(\"lda_prediction.csv\",index=False)\n",
    "prediction_df_REG#.to_csv(\"reg_prediction.csv\",index=False)"
   ]
  },
  {
   "cell_type": "code",
   "execution_count": null,
   "metadata": {
    "id": "6cGscyoWwq39"
   },
   "outputs": [],
   "source": []
  }
 ],
 "metadata": {
  "colab": {
   "collapsed_sections": [],
   "name": "Titanic_classification.ipynb",
   "provenance": []
  },
  "kernelspec": {
   "display_name": "Python 3 (ipykernel)",
   "language": "python",
   "name": "python3"
  },
  "language_info": {
   "codemirror_mode": {
    "name": "ipython",
    "version": 3
   },
   "file_extension": ".py",
   "mimetype": "text/x-python",
   "name": "python",
   "nbconvert_exporter": "python",
   "pygments_lexer": "ipython3",
   "version": "3.7.9"
  }
 },
 "nbformat": 4,
 "nbformat_minor": 1
}
